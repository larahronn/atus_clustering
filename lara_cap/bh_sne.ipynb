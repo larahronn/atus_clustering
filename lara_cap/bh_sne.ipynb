{
 "cells": [
  {
   "cell_type": "code",
   "execution_count": 16,
   "metadata": {
    "collapsed": false
   },
   "outputs": [],
   "source": [
    "import pandas as pd\n",
    "from tsne import bh_sne\n",
    "import matplotlib.pyplot as plt\n",
    "\n",
    "%matplotlib inline"
   ]
  },
  {
   "cell_type": "code",
   "execution_count": 42,
   "metadata": {
    "collapsed": false
   },
   "outputs": [],
   "source": [
    "import csv\n",
    "import numpy\n",
    "\n",
    "#reader = csv.reader(open(\"big_data.csv\", \"rb\"), delimiter=\",\")\n",
    "#x = list(reader)\n",
    "#data = numpy.array(x)\n",
    "\n",
    "big_data = pd.read_csv('big_data.csv')\n",
    "the_data = big_data.sample(n=10000)\n",
    "\n",
    "#the_data= pd.read_csv('big_data.csv')"
   ]
  },
  {
   "cell_type": "code",
   "execution_count": 29,
   "metadata": {
    "collapsed": false
   },
   "outputs": [],
   "source": [
    "X = the_data"
   ]
  },
  {
   "cell_type": "code",
   "execution_count": 30,
   "metadata": {
    "collapsed": false
   },
   "outputs": [],
   "source": [
    "y = the_data.columns.values"
   ]
  },
  {
   "cell_type": "code",
   "execution_count": 31,
   "metadata": {
    "collapsed": false
   },
   "outputs": [
    {
     "name": "stdout",
     "output_type": "stream",
     "text": [
      "        T010101  T010102  T010199  T010201  T010299  T010301  T010399  \\\n",
      "154726    570.0      0.0      0.0     30.0      0.0      0.0      0.0   \n",
      "153252    480.0      0.0      0.0     75.0      0.0      0.0      0.0   \n",
      "151942    570.0      0.0      0.0     20.0      0.0      0.0      0.0   \n",
      "55250     561.0     40.0      0.0    137.0      0.0      0.0      0.0   \n",
      "110344    350.0      0.0      0.0     45.0      0.0      0.0      0.0   \n",
      "88233     840.0      0.0      0.0     15.0      0.0      0.0      0.0   \n",
      "9561      690.0      0.0      0.0      0.0      0.0      0.0      0.0   \n",
      "84938     480.0      0.0      0.0     20.0      0.0      0.0      0.0   \n",
      "33526     450.0      0.0      0.0     30.0      0.0     15.0      0.0   \n",
      "138036    740.0      0.0      0.0     10.0      0.0     20.0      0.0   \n",
      "139250    540.0      0.0      0.0     30.0      0.0      0.0      0.0   \n",
      "112545    510.0      0.0      0.0      0.0      0.0      0.0      0.0   \n",
      "135589    390.0      0.0      0.0     45.0      0.0      0.0      0.0   \n",
      "156437    570.0      0.0      0.0     76.0      0.0      0.0      0.0   \n",
      "145183    380.0      0.0      0.0     40.0      0.0      0.0      0.0   \n",
      "2350      504.0      0.0      0.0      0.0      0.0      1.0      0.0   \n",
      "40510     495.0      0.0      0.0     50.0      0.0      0.0      0.0   \n",
      "52373     420.0      0.0      0.0     30.0      0.0      0.0      0.0   \n",
      "10184     772.0      0.0      0.0     80.0      0.0      0.0      0.0   \n",
      "64200     630.0      0.0      0.0      0.0      0.0      0.0      0.0   \n",
      "167300    555.0      0.0      0.0    100.0      0.0      0.0      0.0   \n",
      "166849    620.0      0.0      0.0     30.0      0.0      0.0      0.0   \n",
      "69010     600.0      0.0      0.0     30.0      0.0      0.0      0.0   \n",
      "82391     360.0      0.0      0.0      0.0      0.0      0.0      0.0   \n",
      "114820    625.0      0.0      0.0     30.0      0.0     10.0      0.0   \n",
      "60085     670.0      0.0      0.0     30.0      0.0      0.0      0.0   \n",
      "51417     420.0      0.0      0.0     60.0      0.0      0.0      0.0   \n",
      "70056     300.0    120.0      0.0      0.0      0.0      0.0      0.0   \n",
      "150722    597.0      0.0      0.0     30.0      0.0      0.0      0.0   \n",
      "80655     570.0      0.0      0.0     90.0      0.0      0.0      0.0   \n",
      "...         ...      ...      ...      ...      ...      ...      ...   \n",
      "31053     670.0      0.0      0.0     35.0      0.0      0.0      0.0   \n",
      "65843     720.0      0.0      0.0      0.0      0.0      0.0      0.0   \n",
      "152584    450.0     60.0      0.0     40.0      0.0      0.0      0.0   \n",
      "128638    360.0      0.0      0.0     75.0      0.0      0.0      0.0   \n",
      "87199     750.0      0.0      0.0      0.0      0.0      0.0      0.0   \n",
      "21394     660.0      0.0      0.0      0.0      0.0      0.0      0.0   \n",
      "107546    819.0      0.0      0.0     60.0      0.0      0.0      0.0   \n",
      "169848    585.0      0.0      0.0     60.0      0.0      0.0      0.0   \n",
      "66870     390.0      0.0      0.0     20.0      0.0      0.0      0.0   \n",
      "61896     665.0      0.0      0.0      0.0      0.0      0.0      0.0   \n",
      "124626    435.0      0.0      0.0     30.0      0.0      0.0      0.0   \n",
      "99651     390.0      0.0      0.0     30.0      0.0      0.0      0.0   \n",
      "48911     265.0      0.0      0.0     30.0      0.0      0.0      0.0   \n",
      "116894    600.0      0.0      0.0    120.0      0.0      0.0      0.0   \n",
      "136394    300.0      0.0      0.0     15.0      0.0      0.0      0.0   \n",
      "79137     580.0      0.0      0.0      0.0      0.0      0.0      0.0   \n",
      "156789    405.0      0.0      0.0     60.0      0.0      0.0      0.0   \n",
      "114476    525.0      0.0      0.0     30.0      0.0      0.0      0.0   \n",
      "84274     401.0      0.0      0.0     30.0      0.0      0.0      0.0   \n",
      "53557     480.0      0.0      0.0     35.0      0.0      0.0      0.0   \n",
      "69184     480.0      0.0      0.0      0.0      0.0      0.0      0.0   \n",
      "62828     375.0      0.0      0.0     60.0      0.0      0.0      0.0   \n",
      "166621    510.0      0.0      0.0     45.0      0.0      0.0      0.0   \n",
      "105480    570.0      0.0      0.0     30.0      0.0      0.0      0.0   \n",
      "145198    565.0      0.0      0.0      0.0      0.0      0.0      0.0   \n",
      "121034    680.0      0.0      0.0     15.0      0.0      0.0      0.0   \n",
      "81207     540.0      0.0      0.0      0.0      0.0      0.0      0.0   \n",
      "140304    772.0      0.0      0.0     75.0      0.0      0.0      0.0   \n",
      "30506     420.0      0.0      0.0     20.0      0.0      0.0      0.0   \n",
      "147308    780.0      0.0      0.0      0.0      0.0      0.0      0.0   \n",
      "\n",
      "        T010401  T010499  T010501   ...     T181801  T181899  T189999  \\\n",
      "154726      0.0      0.0      0.0   ...         0.0      0.0      0.0   \n",
      "153252      0.0      0.0      0.0   ...         0.0      0.0      0.0   \n",
      "151942      0.0      0.0      0.0   ...         0.0      0.0      0.0   \n",
      "55250       0.0      0.0      0.0   ...         0.0      0.0      0.0   \n",
      "110344      0.0      0.0      0.0   ...         0.0      0.0      0.0   \n",
      "88233       0.0      0.0      0.0   ...         0.0      0.0      0.0   \n",
      "9561        0.0      0.0      0.0   ...         0.0      0.0      0.0   \n",
      "84938       0.0      0.0      0.0   ...         0.0      0.0      0.0   \n",
      "33526       0.0      0.0      0.0   ...         0.0      0.0      0.0   \n",
      "138036      0.0      0.0      0.0   ...         0.0      0.0      0.0   \n",
      "139250      0.0      0.0      0.0   ...         0.0      0.0      0.0   \n",
      "112545      0.0      0.0      0.0   ...         0.0      0.0      0.0   \n",
      "135589      0.0      0.0      0.0   ...         0.0      0.0      0.0   \n",
      "156437      0.0      0.0      0.0   ...         0.0      0.0      0.0   \n",
      "145183      0.0      0.0      0.0   ...         0.0      0.0      0.0   \n",
      "2350        0.0      0.0      0.0   ...         0.0      0.0      0.0   \n",
      "40510       0.0      0.0      0.0   ...         0.0      0.0      0.0   \n",
      "52373       0.0      0.0      0.0   ...         0.0      0.0      0.0   \n",
      "10184       0.0      0.0      0.0   ...         0.0      0.0      0.0   \n",
      "64200       0.0      0.0      0.0   ...         0.0      0.0      0.0   \n",
      "167300      0.0      0.0      0.0   ...         0.0      0.0      0.0   \n",
      "166849      0.0      0.0      0.0   ...         0.0      0.0      0.0   \n",
      "69010       0.0      0.0      0.0   ...         0.0      0.0      0.0   \n",
      "82391       0.0      0.0      0.0   ...         0.0      0.0      0.0   \n",
      "114820      0.0      0.0      0.0   ...         0.0      0.0      0.0   \n",
      "60085       0.0      0.0      0.0   ...         0.0      0.0      0.0   \n",
      "51417       0.0      0.0      0.0   ...         0.0      0.0      0.0   \n",
      "70056       0.0      0.0      0.0   ...         0.0      0.0      0.0   \n",
      "150722      0.0      0.0      0.0   ...         0.0      0.0      0.0   \n",
      "80655       0.0      0.0      0.0   ...         0.0      0.0      0.0   \n",
      "...         ...      ...      ...   ...         ...      ...      ...   \n",
      "31053       0.0      0.0      0.0   ...         0.0      0.0      0.0   \n",
      "65843       0.0      0.0      0.0   ...         0.0      0.0      0.0   \n",
      "152584      0.0      0.0      0.0   ...         0.0      0.0      0.0   \n",
      "128638      0.0      0.0      0.0   ...         0.0      0.0      0.0   \n",
      "87199       0.0      0.0      0.0   ...         0.0      0.0      0.0   \n",
      "21394       0.0      0.0      0.0   ...         0.0      0.0      0.0   \n",
      "107546      0.0      0.0      0.0   ...         0.0      0.0      0.0   \n",
      "169848      0.0      0.0      0.0   ...         0.0      0.0      0.0   \n",
      "66870       0.0      0.0      0.0   ...         0.0      0.0      0.0   \n",
      "61896       0.0      0.0      0.0   ...         0.0      0.0      0.0   \n",
      "124626      0.0      0.0      0.0   ...         0.0      0.0      0.0   \n",
      "99651       0.0      0.0      0.0   ...         0.0      0.0      0.0   \n",
      "48911       0.0      0.0      0.0   ...         0.0      0.0      0.0   \n",
      "116894      0.0      0.0      0.0   ...         0.0      0.0      0.0   \n",
      "136394      0.0      0.0      0.0   ...         0.0      0.0      0.0   \n",
      "79137       0.0      0.0      0.0   ...         0.0      0.0      0.0   \n",
      "156789      0.0      0.0      0.0   ...         0.0      0.0      0.0   \n",
      "114476      0.0      0.0      0.0   ...         0.0      0.0      0.0   \n",
      "84274       0.0      0.0      0.0   ...         0.0      0.0      0.0   \n",
      "53557       0.0      0.0      0.0   ...         0.0      0.0      0.0   \n",
      "69184       0.0      0.0      0.0   ...         0.0      0.0      0.0   \n",
      "62828       0.0      0.0      0.0   ...         0.0      0.0      0.0   \n",
      "166621      0.0      0.0      0.0   ...         0.0      0.0      0.0   \n",
      "105480      0.0      0.0      0.0   ...         0.0      0.0      0.0   \n",
      "145198      0.0      0.0      0.0   ...         0.0      0.0      0.0   \n",
      "121034      0.0      0.0      0.0   ...         0.0      0.0      0.0   \n",
      "81207       0.0      0.0      0.0   ...         0.0      0.0      0.0   \n",
      "140304      0.0      0.0      0.0   ...         0.0      0.0      0.0   \n",
      "30506       0.0      0.0      0.0   ...         0.0      0.0      0.0   \n",
      "147308      0.0      0.0      0.0   ...         0.0      0.0      0.0   \n",
      "\n",
      "        T500101  T500103  T500104  T500105  T500106  T500107  T509989  \n",
      "154726      0.0      0.0      0.0      0.0      0.0      0.0      0.0  \n",
      "153252      0.0      0.0      0.0      0.0      0.0      0.0      0.0  \n",
      "151942      0.0      0.0      0.0      0.0    120.0      0.0      0.0  \n",
      "55250     109.0      0.0      0.0      0.0      0.0      0.0      0.0  \n",
      "110344      0.0      0.0      0.0      0.0      0.0      0.0      0.0  \n",
      "88233      10.0      0.0      0.0      0.0      0.0      0.0      0.0  \n",
      "9561        0.0      0.0      0.0      0.0      0.0      0.0      0.0  \n",
      "84938       0.0      0.0      0.0      5.0      0.0      0.0      0.0  \n",
      "33526       0.0      0.0      0.0      0.0      0.0      0.0      0.0  \n",
      "138036      0.0      0.0      0.0      0.0      0.0      0.0      0.0  \n",
      "139250      0.0      0.0      0.0      0.0      0.0      0.0      0.0  \n",
      "112545      0.0      0.0      0.0      0.0      0.0      0.0      0.0  \n",
      "135589      0.0      0.0      0.0      0.0      0.0      0.0      0.0  \n",
      "156437      0.0      0.0      0.0      0.0      0.0      0.0      0.0  \n",
      "145183      0.0      0.0      0.0      0.0      0.0      0.0      0.0  \n",
      "2350        0.0      0.0      0.0      0.0      0.0      0.0      0.0  \n",
      "40510       0.0      0.0      0.0      0.0      0.0      0.0      0.0  \n",
      "52373       0.0      0.0      0.0      0.0      0.0      0.0      0.0  \n",
      "10184       0.0      0.0      0.0      0.0      0.0      0.0      0.0  \n",
      "64200       0.0      0.0      0.0      0.0      0.0      0.0      0.0  \n",
      "167300      0.0      0.0      0.0      0.0     50.0      0.0      0.0  \n",
      "166849      0.0      0.0      0.0      0.0    178.0      0.0      0.0  \n",
      "69010       0.0      0.0      0.0      0.0      0.0      0.0      0.0  \n",
      "82391       0.0      0.0      0.0      0.0      0.0      0.0      0.0  \n",
      "114820     20.0      0.0      0.0      0.0      0.0      0.0      0.0  \n",
      "60085       0.0      0.0      0.0      0.0      0.0      0.0      0.0  \n",
      "51417       0.0      0.0      0.0      0.0      0.0      0.0      0.0  \n",
      "70056       0.0      0.0      0.0      0.0      0.0      0.0      0.0  \n",
      "150722     20.0      0.0      0.0      0.0      0.0      0.0      0.0  \n",
      "80655       0.0      0.0      0.0      0.0      0.0      0.0      0.0  \n",
      "...         ...      ...      ...      ...      ...      ...      ...  \n",
      "31053       0.0      0.0      0.0      0.0      0.0      0.0      0.0  \n",
      "65843       0.0      0.0      0.0      0.0      0.0      0.0      0.0  \n",
      "152584      0.0      0.0      0.0      0.0      0.0      0.0      0.0  \n",
      "128638      0.0      0.0      0.0      0.0      0.0      0.0      0.0  \n",
      "87199       0.0      0.0      0.0      0.0      0.0      0.0      0.0  \n",
      "21394       0.0      0.0      0.0      0.0      0.0      0.0      0.0  \n",
      "107546      0.0      0.0      0.0      0.0      0.0      0.0      0.0  \n",
      "169848      0.0      0.0      0.0      0.0      0.0      0.0      0.0  \n",
      "66870       0.0      0.0      0.0      0.0      0.0      0.0      0.0  \n",
      "61896       0.0      0.0      0.0      0.0      0.0      0.0      0.0  \n",
      "124626      0.0      0.0      0.0      0.0      0.0      0.0      0.0  \n",
      "99651       0.0      0.0      0.0      0.0      0.0      0.0      0.0  \n",
      "48911       0.0      0.0      0.0      0.0      0.0      0.0      0.0  \n",
      "116894      0.0      0.0      0.0      0.0      0.0      0.0      0.0  \n",
      "136394      0.0      0.0      0.0      0.0      0.0      0.0      0.0  \n",
      "79137       0.0      0.0      0.0      0.0      0.0      0.0      0.0  \n",
      "156789      0.0      0.0      0.0      0.0     25.0      0.0      0.0  \n",
      "114476      0.0      0.0      0.0      0.0      0.0      0.0      0.0  \n",
      "84274       0.0      0.0      0.0      0.0      0.0      0.0      0.0  \n",
      "53557       0.0      0.0      0.0      0.0      0.0      0.0      0.0  \n",
      "69184       0.0      0.0      0.0      0.0      0.0      0.0      0.0  \n",
      "62828       0.0      0.0      0.0      0.0      0.0      0.0      0.0  \n",
      "166621      0.0      0.0      0.0      0.0      0.0      0.0      0.0  \n",
      "105480      0.0      0.0      0.0      0.0      0.0      0.0      0.0  \n",
      "145198      0.0      0.0      0.0      0.0      0.0      0.0      0.0  \n",
      "121034      0.0      0.0      0.0      0.0      0.0      0.0      0.0  \n",
      "81207       0.0      0.0      0.0      0.0     10.0      0.0      0.0  \n",
      "140304      0.0      0.0      0.0      0.0      0.0      0.0      0.0  \n",
      "30506       0.0      0.0      0.0      0.0      0.0      0.0      0.0  \n",
      "147308      0.0      0.0      0.0      0.0      0.0      0.0      0.0  \n",
      "\n",
      "[5000 rows x 431 columns]\n"
     ]
    }
   ],
   "source": [
    "print X"
   ]
  },
  {
   "cell_type": "code",
   "execution_count": 32,
   "metadata": {
    "collapsed": false
   },
   "outputs": [
    {
     "name": "stdout",
     "output_type": "stream",
     "text": [
      "['T010101' 'T010102' 'T010199' 'T010201' 'T010299' 'T010301' 'T010399'\n",
      " 'T010401' 'T010499' 'T010501' 'T010599' 'T019999' 'T020101' 'T020102'\n",
      " 'T020103' 'T020104' 'T020199' 'T020201' 'T020202' 'T020203' 'T020299'\n",
      " 'T020301' 'T020302' 'T020303' 'T020399' 'T020401' 'T020402' 'T020499'\n",
      " 'T020501' 'T020502' 'T020599' 'T020681' 'T020699' 'T020701' 'T020799'\n",
      " 'T020801' 'T020899' 'T020901' 'T020902' 'T020903' 'T020904' 'T020905'\n",
      " 'T020999' 'T029999' 'T030101' 'T030102' 'T030103' 'T030104' 'T030105'\n",
      " 'T030108' 'T030109' 'T030110' 'T030111' 'T030112' 'T030186' 'T030199'\n",
      " 'T030201' 'T030202' 'T030203' 'T030204' 'T030299' 'T030301' 'T030302'\n",
      " 'T030303' 'T030399' 'T030401' 'T030402' 'T030403' 'T030404' 'T030405'\n",
      " 'T030499' 'T030501' 'T030502' 'T030503' 'T030504' 'T030599' 'T039999'\n",
      " 'T040101' 'T040102' 'T040103' 'T040104' 'T040105' 'T040108' 'T040109'\n",
      " 'T040110' 'T040111' 'T040112' 'T040186' 'T040199' 'T040201' 'T040202'\n",
      " 'T040203' 'T040204' 'T040299' 'T040301' 'T040302' 'T040303' 'T040399'\n",
      " 'T040401' 'T040402' 'T040403' 'T040404' 'T040405' 'T040499' 'T040501'\n",
      " 'T040502' 'T040503' 'T040504' 'T040505' 'T040506' 'T040507' 'T040508'\n",
      " 'T040599' 'T049999' 'T050101' 'T050102' 'T050103' 'T050189' 'T050201'\n",
      " 'T050202' 'T050203' 'T050204' 'T050289' 'T050301' 'T050302' 'T050303'\n",
      " 'T050304' 'T050389' 'T050403' 'T050404' 'T050405' 'T050481' 'T050499'\n",
      " 'T059999' 'T060101' 'T060102' 'T060103' 'T060104' 'T060199' 'T060201'\n",
      " 'T060202' 'T060203' 'T060289' 'T060301' 'T060302' 'T060303' 'T060399'\n",
      " 'T060401' 'T060402' 'T060403' 'T060499' 'T069999' 'T070101' 'T070102'\n",
      " 'T070103' 'T070104' 'T070105' 'T070199' 'T070201' 'T070299' 'T070301'\n",
      " 'T070399' 'T079999' 'T080101' 'T080102' 'T080199' 'T080201' 'T080202'\n",
      " 'T080203' 'T080299' 'T080301' 'T080302' 'T080399' 'T080401' 'T080402'\n",
      " 'T080403' 'T080499' 'T080501' 'T080502' 'T080599' 'T080601' 'T080602'\n",
      " 'T080699' 'T080701' 'T080702' 'T080799' 'T080801' 'T080899' 'T089999'\n",
      " 'T090101' 'T090102' 'T090103' 'T090104' 'T090199' 'T090201' 'T090202'\n",
      " 'T090299' 'T090301' 'T090302' 'T090399' 'T090401' 'T090402' 'T090499'\n",
      " 'T090501' 'T090502' 'T090599' 'T099999' 'T100101' 'T100102' 'T100103'\n",
      " 'T100199' 'T100201' 'T100299' 'T100381' 'T100383' 'T100399' 'T100401'\n",
      " 'T100499' 'T109999' 'T110101' 'T110199' 'T110281' 'T110289' 'T119999'\n",
      " 'T120101' 'T120199' 'T120201' 'T120202' 'T120299' 'T120301' 'T120302'\n",
      " 'T120303' 'T120304' 'T120305' 'T120306' 'T120307' 'T120308' 'T120309'\n",
      " 'T120310' 'T120311' 'T120312' 'T120313' 'T120399' 'T120401' 'T120402'\n",
      " 'T120403' 'T120404' 'T120405' 'T120499' 'T120501' 'T120502' 'T120503'\n",
      " 'T120504' 'T120599' 'T129999' 'T130101' 'T130102' 'T130103' 'T130104'\n",
      " 'T130105' 'T130106' 'T130107' 'T130108' 'T130109' 'T130110' 'T130111'\n",
      " 'T130112' 'T130113' 'T130114' 'T130115' 'T130116' 'T130117' 'T130118'\n",
      " 'T130119' 'T130120' 'T130121' 'T130122' 'T130123' 'T130124' 'T130125'\n",
      " 'T130126' 'T130127' 'T130128' 'T130129' 'T130130' 'T130131' 'T130132'\n",
      " 'T130133' 'T130134' 'T130135' 'T130136' 'T130199' 'T130201' 'T130202'\n",
      " 'T130203' 'T130204' 'T130205' 'T130206' 'T130207' 'T130208' 'T130209'\n",
      " 'T130210' 'T130211' 'T130212' 'T130213' 'T130214' 'T130215' 'T130216'\n",
      " 'T130217' 'T130218' 'T130219' 'T130220' 'T130221' 'T130222' 'T130223'\n",
      " 'T130224' 'T130225' 'T130226' 'T130227' 'T130228' 'T130229' 'T130230'\n",
      " 'T130231' 'T130232' 'T130299' 'T130301' 'T130302' 'T130399' 'T130401'\n",
      " 'T130402' 'T130499' 'T139999' 'T140101' 'T140102' 'T140103' 'T140104'\n",
      " 'T140105' 'T149999' 'T150101' 'T150102' 'T150103' 'T150104' 'T150105'\n",
      " 'T150106' 'T150199' 'T150201' 'T150202' 'T150203' 'T150204' 'T150299'\n",
      " 'T150301' 'T150302' 'T150399' 'T150401' 'T150402' 'T150499' 'T150501'\n",
      " 'T150599' 'T150601' 'T150602' 'T150699' 'T159989' 'T160101' 'T160102'\n",
      " 'T160103' 'T160104' 'T160105' 'T160106' 'T160107' 'T160108' 'T169989'\n",
      " 'T180101' 'T180199' 'T180280' 'T180381' 'T180382' 'T180399' 'T180481'\n",
      " 'T180482' 'T180499' 'T180501' 'T180502' 'T180589' 'T180601' 'T180682'\n",
      " 'T180699' 'T180701' 'T180782' 'T180801' 'T180802' 'T180803' 'T180804'\n",
      " 'T180805' 'T180806' 'T180807' 'T180899' 'T180901' 'T180902' 'T180903'\n",
      " 'T180904' 'T180905' 'T180999' 'T181002' 'T181081' 'T181099' 'T181101'\n",
      " 'T181199' 'T181201' 'T181202' 'T181204' 'T181283' 'T181299' 'T181301'\n",
      " 'T181302' 'T181399' 'T181401' 'T181499' 'T181501' 'T181599' 'T181601'\n",
      " 'T181699' 'T181801' 'T181899' 'T189999' 'T500101' 'T500103' 'T500104'\n",
      " 'T500105' 'T500106' 'T500107' 'T509989']\n"
     ]
    }
   ],
   "source": [
    "print y"
   ]
  },
  {
   "cell_type": "code",
   "execution_count": 43,
   "metadata": {
    "collapsed": true
   },
   "outputs": [],
   "source": [
    "X_2d = bh_sne(the_data)"
   ]
  },
  {
   "cell_type": "code",
   "execution_count": 34,
   "metadata": {
    "collapsed": false
   },
   "outputs": [
    {
     "name": "stdout",
     "output_type": "stream",
     "text": [
      "[[-30.70090327  24.28822137]\n",
      " [ 29.08178398 -22.88911749]\n",
      " [ -6.59016626  -1.64310402]\n",
      " ..., \n",
      " [ 17.98770051   3.53373532]\n",
      " [ -0.95101368  -1.48858735]\n",
      " [-30.36085511  13.07321149]]\n"
     ]
    }
   ],
   "source": [
    "print X_2d"
   ]
  },
  {
   "cell_type": "code",
   "execution_count": 44,
   "metadata": {
    "collapsed": false
   },
   "outputs": [
    {
     "name": "stdout",
     "output_type": "stream",
     "text": [
      "The score for n_cluster = 2. is : 0.298466207098\n",
      "The score for n_cluster = 3. is : 0.237275514129\n",
      "The score for n_cluster = 4. is : 0.201259542577\n",
      "The score for n_cluster = 5. is : 0.180422924536\n",
      "The score for n_cluster = 6. is : 0.186853263088\n",
      "The score for n_cluster = 7. is : 0.192864067025\n",
      "The score for n_cluster = 8. is : 0.189223990273\n",
      "The score for n_cluster = 9. is : 0.102349853956\n"
     ]
    }
   ],
   "source": [
    "from sklearn.mixture import GaussianMixture\n",
    "from sklearn.metrics import silhouette_score\n",
    "import sklearn.cluster as cluster\n",
    "from sklearn.cluster import KMeans\n",
    "import time\n",
    "\n",
    "cluster_range = list(range(2,10)) \n",
    "#Go through with different n_components to find the best silhouette score\n",
    "\n",
    "for n_cluster in cluster_range:\n",
    "    # Apply your clustering algorithm of choice to the reduced data \n",
    "    clusterer = KMeans(n_cluster, random_state=2).fit(the_data)\n",
    "    \n",
    "    # Predict the cluster for each data point\n",
    "    preds = clusterer.predict(the_data)\n",
    "      \n",
    "    # Calculate the mean silhouette coefficient for the number of clusters chosen\n",
    "    score = silhouette_score(the_data, preds)\n",
    "    \n",
    "    print \"The score for n_cluster = {}. is : {}\". format(n_cluster, score)"
   ]
  },
  {
   "cell_type": "code",
   "execution_count": 51,
   "metadata": {
    "collapsed": false
   },
   "outputs": [],
   "source": [
    "n_clusters = 2\n",
    "km = KMeans(n_clusters)\n",
    "clusters = km.fit_predict(the_data)\n",
    "labels = km.labels_"
   ]
  },
  {
   "cell_type": "code",
   "execution_count": 50,
   "metadata": {
    "collapsed": false
   },
   "outputs": [
    {
     "data": {
      "text/plain": [
       "<matplotlib.collections.PathCollection at 0x1187ba8d0>"
      ]
     },
     "execution_count": 50,
     "metadata": {},
     "output_type": "execute_result"
    },
    {
     "data": {
      "image/png": "[encoded data removed]",
      "text/plain": [
       "<matplotlib.figure.Figure at 0x1183faed0>"
      ]
     },
     "metadata": {},
     "output_type": "display_data"
    }
   ],
   "source": [
    "plt.scatter(X_2d[:, 0], X_2d[:, 1], c=labels, cmap=plt.cm.get_cmap(\"Vega20b\", 10))\n",
    "#plt.scatter(result[:,0], result[:,1], c=labels, cmap=plt.cm.get_cmap(\"Vega20b\", 10))"
   ]
  },
  {
   "cell_type": "code",
   "execution_count": null,
   "metadata": {
    "collapsed": true
   },
   "outputs": [],
   "source": []
  }
 ],
 "metadata": {
  "kernelspec": {
   "display_name": "Python 2",
   "language": "python",
   "name": "python2"
  },
  "language_info": {
   "codemirror_mode": {
    "name": "ipython",
    "version": 2
   },
   "file_extension": ".py",
   "mimetype": "text/x-python",
   "name": "python",
   "nbconvert_exporter": "python",
   "pygments_lexer": "ipython2",
   "version": "2.7.13"
  }
 },
 "nbformat": 4,
 "nbformat_minor": 2
}
