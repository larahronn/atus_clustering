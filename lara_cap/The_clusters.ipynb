{
 "cells": [
  {
   "cell_type": "markdown",
   "metadata": {},
   "source": [
    "# Table of contents\n",
    "1. [Introduction](#introduction)\n",
    "2. [Data](#data)\n",
    "3. [Find the clusters](#find_clusters)\n",
    "    1. [Dimensionality reduction?](#dimred)\n",
    "    2. [Apply t-SNE and bh-SNE](#sne) \n",
    "3. [Conclution](#conclu)\n"
   ]
  },
  {
   "cell_type": "markdown",
   "metadata": {},
   "source": [
    "# Introduction <a name='introduction'></a>\n",
    "Can we use unsupervised learning and clustering to divide people into groups based on how they spend their days? The first part of the problem is to find if it is possible in general to categorise people in this way. The second part is to find how many groups there would be and how they interact with each other.\n",
    "\n",
    "We will be using two methods, t-SNE and bh-SNE. Originally this project was supposed to use only t-SNE but further research resulted in the use of bh-SNE. T-SNE is an effective mean for dimension reducion but compared to bh-SNE it is computationally heavy (runnin in O(n2) time). Barnes-Hut t-Distributed Stochastic Neighbor Embedding (BH-SNE) runs in O(n log n) time and is an effective means of quick dimension reduction with little loss in fidelity (https://arxiv.org/pdf/1301.3342v2.pdf)\n",
    "\n",
    "### What next?\n",
    "- Import the functions we need\n",
    "- Load the dataset\n",
    "- Use TruncatedSVD for dimensionality  reduction to make it into a surprisingly informative smaller matrix\n",
    "- Use KMeans to group our participants into some clusters\n",
    "- Use TSNE to get coordinates for a scatterplot\n",
    "- Visualize the results"
   ]
  },
  {
   "cell_type": "code",
   "execution_count": 44,
   "metadata": {
    "collapsed": true
   },
   "outputs": [],
   "source": [
    "import numpy as np\n",
    "import pandas as pd\n",
    "import pylab as Plot\n",
    "\n",
    "import matplotlib.pyplot as plt\n",
    "import seaborn as sns\n",
    "\n",
    "from plotly.graph_objs import *\n",
    "import plotly.plotly as py\n",
    "import plotly.tools as tls\n",
    "\n",
    "from sklearn.manifold import TSNE\n",
    "from tsne import bh_sne\n",
    "import sklearn.cluster as cluster\n",
    "from sklearn.cluster import KMeans\n",
    "import time\n",
    "\n",
    "%matplotlib inline\n",
    "sns.set_context('poster')\n",
    "sns.set_color_codes()\n",
    "plot_kwds = {'alpha' : 0.25, 's' : 80, 'linewidths':0}"
   ]
  },
  {
   "cell_type": "markdown",
   "metadata": {},
   "source": [
    "# Data <a name='data'></a>\n",
    "Because of the size of the dataset I will be using a sample of 5,000 participants."
   ]
  },
  {
   "cell_type": "markdown",
   "metadata": {},
   "source": [
    "Import the datasets"
   ]
  },
  {
   "cell_type": "code",
   "execution_count": 4,
   "metadata": {
    "collapsed": false
   },
   "outputs": [
    {
     "name": "stdout",
     "output_type": "stream",
     "text": [
      "'big_data' dataset has 170842 samples with 431 features each.\n"
     ]
    }
   ],
   "source": [
    "big_data = pd.read_csv('big_data.csv')\n",
    "print \"'big_data' dataset has {} samples with {} features each.\".format(*big_data.shape)"
   ]
  },
  {
   "cell_type": "code",
   "execution_count": 45,
   "metadata": {
    "collapsed": false
   },
   "outputs": [
    {
     "name": "stdout",
     "output_type": "stream",
     "text": [
      "'s5_big_data' dataset has 5000 samples with 431 features each.\n"
     ]
    }
   ],
   "source": [
    "s5_big_data = pd.read_csv('s5_big_data.csv')\n",
    "print \"'s5_big_data' dataset has {} samples with {} features each.\".format(*s5_big_data.shape)"
   ]
  },
  {
   "cell_type": "code",
   "execution_count": 53,
   "metadata": {
    "collapsed": false
   },
   "outputs": [
    {
     "name": "stdout",
     "output_type": "stream",
     "text": [
      "'s10_big_data' dataset has 10000 samples with 431 features each.\n"
     ]
    }
   ],
   "source": [
    "s10_big_data = pd.read_csv('s10big_data.csv')\n",
    "print \"'s10_big_data' dataset has {} samples with {} features each.\".format(*s10_big_data.shape)"
   ]
  },
  {
   "cell_type": "code",
   "execution_count": 7,
   "metadata": {
    "collapsed": false
   },
   "outputs": [
    {
     "name": "stdout",
     "output_type": "stream",
     "text": [
      "'the_data' dataset has 170842 samples with 83 features each.\n"
     ]
    }
   ],
   "source": [
    "the_data = pd.read_csv('the_data.csv')\n",
    "print \"'the_data' dataset has {} samples with {} features each.\".format(*the_data.shape)"
   ]
  },
  {
   "cell_type": "code",
   "execution_count": 46,
   "metadata": {
    "collapsed": false
   },
   "outputs": [
    {
     "name": "stdout",
     "output_type": "stream",
     "text": [
      "'s10_the_data' dataset has 10000 samples with 83 features each.\n"
     ]
    }
   ],
   "source": [
    "s10_the_data = pd.read_csv('s10_the_data.csv')\n",
    "print \"'s10_the_data' dataset has {} samples with {} features each.\".format(*s10_the_data.shape)"
   ]
  },
  {
   "cell_type": "markdown",
   "metadata": {},
   "source": [
    "We will use both big_data (the original dataset with all the original time entries) and the_data (where similar time entries were manually merged) to see if there is any difference in the clustering."
   ]
  },
  {
   "cell_type": "markdown",
   "metadata": {},
   "source": [
    "# Find the clusters <a name='find_clusters')></a>\n",
    "We have successfully imported the data and visualized it to get some basic knowledge about it. Now we are going to see if we can actually cluster the respondents and divide them into some sort of groups or clusters. \n",
    "\n",
    "\n",
    "### Let's get started..."
   ]
  },
  {
   "cell_type": "markdown",
   "metadata": {},
   "source": [
    "## Dimensionality reduction <a name='dimred'></a>\n",
    "There are many zeroes in our data. In this part I will use both the manually merged data ('the_data') and the dimensionality reduced data of 'big_data' where the data points have not been manually merged."
   ]
  },
  {
   "cell_type": "markdown",
   "metadata": {},
   "source": [
    "There are many zeroes in our data. In this part I will use both the manually merged data ('the_data') and the dimensionality reduced data of 'big_data' where the data points have not been manually merged. Because of the sparsity of the data (88% and 97%) we will use the ARPACK wrapper (scipy.sparse.linalg.svds) with the TruncatedSVD."
   ]
  },
  {
   "cell_type": "code",
   "execution_count": 49,
   "metadata": {
    "collapsed": false,
    "scrolled": true
   },
   "outputs": [
    {
     "name": "stdout",
     "output_type": "stream",
     "text": [
      "CPU times: user 404 ms, sys: 10.1 ms, total: 414 ms\n",
      "Wall time: 231 ms\n"
     ]
    }
   ],
   "source": [
    "%%time\n",
    "\n",
    "from sklearn.decomposition import TruncatedSVD \n",
    "from sklearn.preprocessing import normalize \n",
    "\n",
    "svd = TruncatedSVD(algorithm='arpack', n_components=10)\n",
    "embedded_coords = normalize(svd.fit_transform(s5_big_data), norm='l1')"
   ]
  },
  {
   "cell_type": "code",
   "execution_count": 50,
   "metadata": {
    "collapsed": false
   },
   "outputs": [
    {
     "data": {
      "text/plain": [
       "<matplotlib.axes._subplots.AxesSubplot at 0x114cb1e90>"
      ]
     },
     "execution_count": 50,
     "metadata": {},
     "output_type": "execute_result"
    },
    {
     "data": {
      "image/png": "[encoded data removed]",
      "text/plain": [
       "<matplotlib.figure.Figure at 0x11c342b50>"
      ]
     },
     "metadata": {},
     "output_type": "display_data"
    }
   ],
   "source": [
    "pd.DataFrame(np.cumsum(svd.explained_variance_ratio_)).plot()"
   ]
  },
  {
   "cell_type": "code",
   "execution_count": 54,
   "metadata": {
    "collapsed": false
   },
   "outputs": [
    {
     "name": "stdout",
     "output_type": "stream",
     "text": [
      "CPU times: user 680 ms, sys: 27.8 ms, total: 708 ms\n",
      "Wall time: 394 ms\n"
     ]
    }
   ],
   "source": [
    "%%time\n",
    "\n",
    "from sklearn.decomposition import TruncatedSVD \n",
    "from sklearn.preprocessing import normalize \n",
    "\n",
    "svd1 = TruncatedSVD(algorithm='arpack', n_components=10)\n",
    "embedded_coords1 = normalize(svd1.fit_transform(s10_big_data), norm='l1')"
   ]
  },
  {
   "cell_type": "code",
   "execution_count": 55,
   "metadata": {
    "collapsed": false
   },
   "outputs": [
    {
     "data": {
      "text/plain": [
       "<matplotlib.axes._subplots.AxesSubplot at 0x115e6ccd0>"
      ]
     },
     "execution_count": 55,
     "metadata": {},
     "output_type": "execute_result"
    },
    {
     "data": {
      "image/png": "[encoded data removed]",
      "text/plain": [
       "<matplotlib.figure.Figure at 0x115e6c0d0>"
      ]
     },
     "metadata": {},
     "output_type": "display_data"
    }
   ],
   "source": [
    "pd.DataFrame(np.cumsum(svd1.explained_variance_ratio_)).plot()"
   ]
  },
  {
   "cell_type": "markdown",
   "metadata": {},
   "source": [
    "## Apply t-SNE and bh-SNE <a name='sne'></a>\n",
    "\n",
    "Now we´ll run TSNE to get coordinates for our scatterplots. TSNE converts similarities between data points to joint probabilities and tries to minimize the Kullback-Leibler divergence between the joint probabilities of the low-dimensional embedding and the high-dimensional data. \n",
    "\n",
    "**skrifa um bh-SNE líka**"
   ]
  },
  {
   "cell_type": "markdown",
   "metadata": {},
   "source": [
    "### t-SNE with SVD"
   ]
  },
  {
   "cell_type": "code",
   "execution_count": 56,
   "metadata": {
    "collapsed": false
   },
   "outputs": [
    {
     "name": "stdout",
     "output_type": "stream",
     "text": [
      "CPU times: user 1min 33s, sys: 9.78 s, total: 1min 43s\n",
      "Wall time: 1min 43s\n"
     ]
    }
   ],
   "source": [
    "%%time\n",
    "\n",
    "result = TSNE(n_components=2, random_state=0).fit_transform(embedded_coords)"
   ]
  },
  {
   "cell_type": "markdown",
   "metadata": {},
   "source": [
    "### bh-SNE with SVD"
   ]
  },
  {
   "cell_type": "code",
   "execution_count": 57,
   "metadata": {
    "collapsed": false
   },
   "outputs": [
    {
     "name": "stdout",
     "output_type": "stream",
     "text": [
      "CPU times: user 59.1 s, sys: 435 ms, total: 59.5 s\n",
      "Wall time: 59.7 s\n"
     ]
    }
   ],
   "source": [
    "%%time\n",
    "\n",
    "result_emb_bh = bh_sne(embedded_coords1)"
   ]
  },
  {
   "cell_type": "markdown",
   "metadata": {},
   "source": [
    "### bh-SNE directly on data"
   ]
  },
  {
   "cell_type": "code",
   "execution_count": 58,
   "metadata": {
    "collapsed": false
   },
   "outputs": [
    {
     "name": "stdout",
     "output_type": "stream",
     "text": [
      "CPU times: user 1min 23s, sys: 710 ms, total: 1min 23s\n",
      "Wall time: 1min 24s\n"
     ]
    }
   ],
   "source": [
    "%%time\n",
    "\n",
    "result_bh = bh_sne(s10_big_data)"
   ]
  },
  {
   "cell_type": "markdown",
   "metadata": {},
   "source": [
    "We can clearly see that t-SNE with SVD requiers much more Wall time than bh-SNE with and without SVD. Lets see what gives us the best clustering results."
   ]
  },
  {
   "cell_type": "markdown",
   "metadata": {},
   "source": [
    "# Clustering with KMeans"
   ]
  },
  {
   "cell_type": "markdown",
   "metadata": {},
   "source": [
    "We´ll run a silhouette_score to decide the amount of clusters."
   ]
  },
  {
   "cell_type": "code",
   "execution_count": null,
   "metadata": {
    "collapsed": false
   },
   "outputs": [],
   "source": [
    "from sklearn.mixture import GaussianMixture\n",
    "from sklearn.metrics import silhouette_score\n",
    "\n",
    "cluster_range = list(range(95,150)) \n",
    "#Go through with different n_components to find the best silhouette score\n",
    "\n",
    "for n_cluster in cluster_range:\n",
    "    # Apply your clustering algorithm of choice to the reduced data \n",
    "    clusterer = KMeans(n_cluster, random_state=2).fit(result)\n",
    "    \n",
    "    # Predict the cluster for each data point\n",
    "    preds = clusterer.predict(result)\n",
    "      \n",
    "    # Calculate the mean silhouette coefficient for the number of clusters chosen\n",
    "    score = silhouette_score(result, preds)\n",
    "    \n",
    "    print \"The score for n_cluster = {}. is : {}\". format(n_cluster, score)\n",
    "    \n",
    "#Score for 2 - 99 clusters ranges from 0.36 to 0.46 and continuing going up."
   ]
  },
  {
   "cell_type": "code",
   "execution_count": null,
   "metadata": {
    "collapsed": false
   },
   "outputs": [
    {
     "name": "stdout",
     "output_type": "stream",
     "text": [
      "The score for n_cluster = 2. is : 0.386201204423\n",
      "The score for n_cluster = 3. is : 0.418282003714\n",
      "The score for n_cluster = 4. is : 0.387187356605\n",
      "The score for n_cluster = 5. is : 0.387679344777\n",
      "The score for n_cluster = 6. is : 0.38060379082\n",
      "The score for n_cluster = 7. is : 0.372418039419\n",
      "The score for n_cluster = 8. is : 0.37250799465\n",
      "The score for n_cluster = 9. is : 0.371776209841\n",
      "The score for n_cluster = 10. is : 0.367868589959\n",
      "The score for n_cluster = 11. is : 0.367396560232\n",
      "The score for n_cluster = 12. is : 0.381344787779\n",
      "The score for n_cluster = 13. is : 0.386921669386\n",
      "The score for n_cluster = 14. is : 0.396158222209\n",
      "The score for n_cluster = 15. is : 0.390231839384\n",
      "The score for n_cluster = 16. is : 0.392442788639\n",
      "The score for n_cluster = 17. is : 0.389820118915\n",
      "The score for n_cluster = 18. is : 0.385478594297\n",
      "The score for n_cluster = 19. is : 0.385610817172\n",
      "The score for n_cluster = 20. is : 0.394047473498\n",
      "The score for n_cluster = 21. is : 0.389543548572\n",
      "The score for n_cluster = 22. is : 0.37914238128\n",
      "The score for n_cluster = 23. is : 0.385258223616\n",
      "The score for n_cluster = 24. is : 0.388449368758\n",
      "The score for n_cluster = 25. is : 0.3804551007\n",
      "The score for n_cluster = 26. is : 0.389656123193\n",
      "The score for n_cluster = 27. is : 0.397124622857\n",
      "The score for n_cluster = 28. is : 0.394137370613\n",
      "The score for n_cluster = 29. is : 0.401486834575\n",
      "The score for n_cluster = 30. is : 0.397439257841\n",
      "The score for n_cluster = 31. is : 0.399069075824\n",
      "The score for n_cluster = 32. is : 0.405149140791\n",
      "The score for n_cluster = 33. is : 0.399427794032\n",
      "The score for n_cluster = 34. is : 0.400854612609\n",
      "The score for n_cluster = 35. is : 0.402585446047\n",
      "The score for n_cluster = 36. is : 0.409892417347\n",
      "The score for n_cluster = 37. is : 0.411637836931\n",
      "The score for n_cluster = 38. is : 0.408884023971\n",
      "The score for n_cluster = 39. is : 0.409235967037\n",
      "The score for n_cluster = 40. is : 0.415528033888\n",
      "The score for n_cluster = 41. is : 0.411669774934\n",
      "The score for n_cluster = 42. is : 0.412695236741\n",
      "The score for n_cluster = 43. is : 0.411436715109\n",
      "The score for n_cluster = 44. is : 0.408300101971\n",
      "The score for n_cluster = 45. is : 0.41241675914\n",
      "The score for n_cluster = 46. is : 0.416825654598\n",
      "The score for n_cluster = 47. is : 0.416591951625\n",
      "The score for n_cluster = 48. is : 0.420562363219\n",
      "The score for n_cluster = 49. is : 0.418517034628\n",
      "The score for n_cluster = 50. is : 0.416777234954\n",
      "The score for n_cluster = 51. is : 0.420331430209\n",
      "The score for n_cluster = 52. is : 0.416234549946\n",
      "The score for n_cluster = 53. is : 0.419149619814\n",
      "The score for n_cluster = 54. is : 0.411889007612\n",
      "The score for n_cluster = 55. is : 0.417352360725\n",
      "The score for n_cluster = 56. is : 0.412140030265\n",
      "The score for n_cluster = 57. is : 0.408673153427\n",
      "The score for n_cluster = 58. is : 0.413718640261\n",
      "The score for n_cluster = 59. is : 0.407498829241\n",
      "The score for n_cluster = 60. is : 0.40901780688\n",
      "The score for n_cluster = 61. is : 0.408400877795\n",
      "The score for n_cluster = 62. is : 0.403970822572\n",
      "The score for n_cluster = 63. is : 0.410844211337\n",
      "The score for n_cluster = 64. is : 0.410326911595\n",
      "The score for n_cluster = 65. is : 0.410687633565\n",
      "The score for n_cluster = 66. is : 0.407692497856\n",
      "The score for n_cluster = 67. is : 0.407201516709\n",
      "The score for n_cluster = 68. is : 0.408607996648\n",
      "The score for n_cluster = 69. is : 0.410711245228\n",
      "The score for n_cluster = 70. is : 0.411286755584\n",
      "The score for n_cluster = 71. is : 0.411656418351\n",
      "The score for n_cluster = 72. is : 0.403754109654\n",
      "The score for n_cluster = 73. is : 0.405002028223\n",
      "The score for n_cluster = 74. is : 0.408766116837\n",
      "The score for n_cluster = 75. is : 0.404992184471\n",
      "The score for n_cluster = 76. is : 0.411099533053\n",
      "The score for n_cluster = 77. is : 0.407190441192\n",
      "The score for n_cluster = 78. is : 0.4021302653\n",
      "The score for n_cluster = 79. is : 0.411375641078\n",
      "The score for n_cluster = 80. is : 0.412323805382\n",
      "The score for n_cluster = 81. is : 0.409070611169\n",
      "The score for n_cluster = 82. is : 0.405729794268\n",
      "The score for n_cluster = 83. is : 0.411970349234\n",
      "The score for n_cluster = 84. is : 0.401809984497\n",
      "The score for n_cluster = 85. is : 0.410630316984\n",
      "The score for n_cluster = 86. is : 0.405808081362\n",
      "The score for n_cluster = 87. is : 0.405982638061\n",
      "The score for n_cluster = 88. is : 0.406941681437\n",
      "The score for n_cluster = 89. is : 0.408273745789\n",
      "The score for n_cluster = 90. is : 0.405226623819\n",
      "The score for n_cluster = 91. is : 0.403918299444\n",
      "The score for n_cluster = 92. is : 0.402634648475\n",
      "The score for n_cluster = 93. is : 0.407148281198\n",
      "The score for n_cluster = 94. is : 0.408149862398\n",
      "The score for n_cluster = 95. is : 0.399477906787\n",
      "The score for n_cluster = 96. is : 0.404751225679\n",
      "The score for n_cluster = 97. is : 0.408709058526\n",
      "The score for n_cluster = 98. is : 0.407115319077\n",
      "The score for n_cluster = 99. is : 0.407345280373\n"
     ]
    }
   ],
   "source": [
    "from sklearn.mixture import GaussianMixture\n",
    "from sklearn.metrics import silhouette_score\n",
    "\n",
    "cluster_range = list(range(2,100)) \n",
    "#Go through with different n_components to find the best silhouette score\n",
    "\n",
    "for n_cluster in cluster_range:\n",
    "    # Apply your clustering algorithm of choice to the reduced data \n",
    "    clusterer = KMeans(n_cluster, random_state=2).fit(result_emb_bh)\n",
    "    \n",
    "    # Predict the cluster for each data point\n",
    "    preds = clusterer.predict(result_emb_bh)\n",
    "      \n",
    "    # Calculate the mean silhouette coefficient for the number of clusters chosen\n",
    "    score = silhouette_score(result_emb_bh, preds)\n",
    "    \n",
    "    print \"The score for n_cluster = {}. is : {}\". format(n_cluster, score)\n",
    "    \n",
    "#Score for 2 - 99 clusters ranges from 0.38 to 0.42 at 48 clusters."
   ]
  },
  {
   "cell_type": "code",
   "execution_count": null,
   "metadata": {
    "collapsed": false
   },
   "outputs": [
    {
     "name": "stdout",
     "output_type": "stream",
     "text": [
      "The score for n_cluster = 2. is : 0.421194851691\n",
      "The score for n_cluster = 3. is : 0.436345332149\n",
      "The score for n_cluster = 4. is : 0.397005347982\n",
      "The score for n_cluster = 5. is : 0.361426808061\n",
      "The score for n_cluster = 6. is : 0.373908773276\n",
      "The score for n_cluster = 7. is : 0.369636505462\n",
      "The score for n_cluster = 8. is : 0.375301792362\n",
      "The score for n_cluster = 9. is : 0.373744130215\n",
      "The score for n_cluster = 10. is : 0.375978074405\n",
      "The score for n_cluster = 11. is : 0.37633217436\n",
      "The score for n_cluster = 12. is : 0.367664190758\n",
      "The score for n_cluster = 13. is : 0.374413944247\n",
      "The score for n_cluster = 14. is : 0.379917236693\n",
      "The score for n_cluster = 15. is : 0.381119872773\n",
      "The score for n_cluster = 16. is : 0.376781932962\n"
     ]
    }
   ],
   "source": [
    "from sklearn.mixture import GaussianMixture\n",
    "from sklearn.metrics import silhouette_score\n",
    "\n",
    "cluster_range = list(range(2,20)) \n",
    "#Go through with different n_components to find the best silhouette score\n",
    "\n",
    "for n_cluster in cluster_range:\n",
    "    # Apply your clustering algorithm of choice to the reduced data \n",
    "    clusterer = KMeans(n_cluster, random_state=2).fit(result_bh)\n",
    "    \n",
    "    # Predict the cluster for each data point\n",
    "    preds = clusterer.predict(result_bh)\n",
    "      \n",
    "    # Calculate the mean silhouette coefficient for the number of clusters chosen\n",
    "    score = silhouette_score(result_bh, preds)\n",
    "    \n",
    "    print \"The score for n_cluster = {}. is : {}\". format(n_cluster, score)\n",
    "\n",
    "#Highest score is for 3 clusters = 0.436"
   ]
  },
  {
   "cell_type": "markdown",
   "metadata": {},
   "source": [
    "#### How many clusters?\n",
    "They all get pritty high scores but the silhouette score is the highest for 2 clusters and therefore we´ll use that."
   ]
  },
  {
   "cell_type": "markdown",
   "metadata": {},
   "source": [
    "We´ll run KMeans to group our participants into the clusters."
   ]
  },
  {
   "cell_type": "code",
   "execution_count": 36,
   "metadata": {
    "collapsed": false
   },
   "outputs": [
    {
     "name": "stdout",
     "output_type": "stream",
     "text": [
      "CPU times: user 2.18 s, sys: 249 ms, total: 2.43 s\n",
      "Wall time: 1.26 s\n"
     ]
    }
   ],
   "source": [
    "%%time\n",
    "\n",
    "n_clusters = 69\n",
    "km = KMeans(n_clusters)\n",
    "clusters = km.fit_predict(result)\n",
    "labels = km.labels_"
   ]
  },
  {
   "cell_type": "code",
   "execution_count": 37,
   "metadata": {
    "collapsed": false
   },
   "outputs": [
    {
     "name": "stdout",
     "output_type": "stream",
     "text": [
      "CPU times: user 2.47 s, sys: 321 ms, total: 2.8 s\n",
      "Wall time: 1.49 s\n"
     ]
    }
   ],
   "source": [
    "%%time\n",
    "\n",
    "n_clusters = 48\n",
    "km = KMeans(n_clusters)\n",
    "clusters1 = km.fit_predict(result_emb_bh)\n",
    "labels1 = km.labels_"
   ]
  },
  {
   "cell_type": "code",
   "execution_count": 25,
   "metadata": {
    "collapsed": false
   },
   "outputs": [
    {
     "name": "stdout",
     "output_type": "stream",
     "text": [
      "CPU times: user 139 ms, sys: 4.18 ms, total: 143 ms\n",
      "Wall time: 91.8 ms\n"
     ]
    }
   ],
   "source": [
    "%%time\n",
    "\n",
    "n_clusters = 3\n",
    "km = KMeans(n_clusters)\n",
    "clusters2 = km.fit_predict(result_bh)\n",
    "labels2 = km.labels_"
   ]
  },
  {
   "cell_type": "markdown",
   "metadata": {},
   "source": [
    "## Scatterplots\n",
    "As we can see on the scatterplots, in both cases, there are two clusters and in both cases the second cluster is significantly smaller than the other."
   ]
  },
  {
   "cell_type": "code",
   "execution_count": 1,
   "metadata": {
    "collapsed": false,
    "scrolled": true
   },
   "outputs": [
    {
     "ename": "NameError",
     "evalue": "name 'plt' is not defined",
     "output_type": "error",
     "traceback": [
      "\u001b[0;31m---------------------------------------------------------------------------\u001b[0m",
      "\u001b[0;31mNameError\u001b[0m                                 Traceback (most recent call last)",
      "\u001b[0;32m<ipython-input-1-bf0432e26496>\u001b[0m in \u001b[0;36m<module>\u001b[0;34m()\u001b[0m\n\u001b[0;32m----> 1\u001b[0;31m \u001b[0mfig\u001b[0m \u001b[0;34m=\u001b[0m \u001b[0mplt\u001b[0m\u001b[0;34m.\u001b[0m\u001b[0mfigure\u001b[0m\u001b[0;34m(\u001b[0m\u001b[0mfigsize\u001b[0m\u001b[0;34m=\u001b[0m\u001b[0;34m(\u001b[0m\u001b[0;36m20\u001b[0m\u001b[0;34m,\u001b[0m\u001b[0;36m10\u001b[0m\u001b[0;34m)\u001b[0m\u001b[0;34m)\u001b[0m\u001b[0;34m\u001b[0m\u001b[0m\n\u001b[0m\u001b[1;32m      2\u001b[0m \u001b[0mplt\u001b[0m\u001b[0;34m.\u001b[0m\u001b[0msubplot2grid\u001b[0m\u001b[0;34m(\u001b[0m\u001b[0;34m(\u001b[0m\u001b[0;36m1\u001b[0m\u001b[0;34m,\u001b[0m\u001b[0;36m2\u001b[0m\u001b[0;34m)\u001b[0m\u001b[0;34m,\u001b[0m \u001b[0;34m(\u001b[0m\u001b[0;36m0\u001b[0m\u001b[0;34m,\u001b[0m\u001b[0;36m0\u001b[0m\u001b[0;34m)\u001b[0m\u001b[0;34m)\u001b[0m\u001b[0;34m\u001b[0m\u001b[0m\n\u001b[1;32m      3\u001b[0m \u001b[0mplt\u001b[0m\u001b[0;34m.\u001b[0m\u001b[0mtitle\u001b[0m\u001b[0;34m(\u001b[0m\u001b[0;34m'big_data'\u001b[0m\u001b[0;34m)\u001b[0m\u001b[0;34m\u001b[0m\u001b[0m\n\u001b[1;32m      4\u001b[0m \u001b[0mplt\u001b[0m\u001b[0;34m.\u001b[0m\u001b[0mscatter\u001b[0m\u001b[0;34m(\u001b[0m\u001b[0mresult\u001b[0m\u001b[0;34m[\u001b[0m\u001b[0;34m:\u001b[0m\u001b[0;34m,\u001b[0m\u001b[0;36m0\u001b[0m\u001b[0;34m]\u001b[0m\u001b[0;34m,\u001b[0m \u001b[0mresult\u001b[0m\u001b[0;34m[\u001b[0m\u001b[0;34m:\u001b[0m\u001b[0;34m,\u001b[0m\u001b[0;36m1\u001b[0m\u001b[0;34m]\u001b[0m\u001b[0;34m,\u001b[0m \u001b[0mc\u001b[0m\u001b[0;34m=\u001b[0m\u001b[0mlabels\u001b[0m\u001b[0;34m,\u001b[0m \u001b[0mcmap\u001b[0m\u001b[0;34m=\u001b[0m\u001b[0mplt\u001b[0m\u001b[0;34m.\u001b[0m\u001b[0mcm\u001b[0m\u001b[0;34m.\u001b[0m\u001b[0mget_cmap\u001b[0m\u001b[0;34m(\u001b[0m\u001b[0;34m\"Vega20b\"\u001b[0m\u001b[0;34m,\u001b[0m \u001b[0;36m10\u001b[0m\u001b[0;34m)\u001b[0m\u001b[0;34m)\u001b[0m\u001b[0;34m\u001b[0m\u001b[0m\n\u001b[1;32m      5\u001b[0m \u001b[0mplt\u001b[0m\u001b[0;34m.\u001b[0m\u001b[0msubplot2grid\u001b[0m\u001b[0;34m(\u001b[0m\u001b[0;34m(\u001b[0m\u001b[0;36m1\u001b[0m\u001b[0;34m,\u001b[0m\u001b[0;36m2\u001b[0m\u001b[0;34m)\u001b[0m\u001b[0;34m,\u001b[0m \u001b[0;34m(\u001b[0m\u001b[0;36m0\u001b[0m\u001b[0;34m,\u001b[0m\u001b[0;36m1\u001b[0m\u001b[0;34m)\u001b[0m\u001b[0;34m,\u001b[0m \u001b[0mrowspan\u001b[0m\u001b[0;34m=\u001b[0m\u001b[0;36m1\u001b[0m\u001b[0;34m,\u001b[0m \u001b[0mcolspan\u001b[0m\u001b[0;34m=\u001b[0m\u001b[0;36m2\u001b[0m\u001b[0;34m)\u001b[0m\u001b[0;34m\u001b[0m\u001b[0m\n",
      "\u001b[0;31mNameError\u001b[0m: name 'plt' is not defined"
     ]
    }
   ],
   "source": [
    "fig = plt.figure(figsize=(20,10))\n",
    "plt.subplot2grid((1,2), (0,0))\n",
    "plt.title('big_data')\n",
    "plt.scatter(result[:,0], result[:,1], c=labels, cmap=plt.cm.get_cmap(\"Vega20b\", 10))\n",
    "plt.subplot2grid((1,2), (0,1), rowspan=1, colspan=2)\n",
    "plt.title('the_data')\n",
    "plt.scatter(result_emb_bh[:,0], result_emb_bh[:,1], c=labels1, cmap=plt.cm.get_cmap(\"Vega20b\", 10))\n",
    "plt.show()\n"
   ]
  },
  {
   "cell_type": "code",
   "execution_count": 40,
   "metadata": {
    "collapsed": false
   },
   "outputs": [
    {
     "data": {
      "image/png": "[encoded data removed]",
      "text/plain": [
       "<matplotlib.figure.Figure at 0x114ff3350>"
      ]
     },
     "metadata": {},
     "output_type": "display_data"
    }
   ],
   "source": [
    "plt.scatter(result_bh[:,0], result_bh[:,1], c=labels2, cmap=plt.cm.get_cmap(\"Vega20b\", 10))\n",
    "plt.show()"
   ]
  },
  {
   "cell_type": "markdown",
   "metadata": {},
   "source": [
    "# So wazz up?\n"
   ]
  },
  {
   "cell_type": "code",
   "execution_count": 21,
   "metadata": {
    "collapsed": false
   },
   "outputs": [
    {
     "data": {
      "text/html": [
       "\n",
       "    <div class=\"bk-root\">\n",
       "        <a href=\"http://bokeh.pydata.org\" target=\"_blank\" class=\"bk-logo bk-logo-small bk-logo-notebook\"></a>\n",
       "        <span id=\"2adb6144-dc97-4f95-ad1f-b22105948274\">Loading BokehJS ...</span>\n",
       "    </div>"
      ]
     },
     "metadata": {},
     "output_type": "display_data"
    },
    {
     "data": {
      "application/javascript": [
       "\n",
       "(function(global) {\n",
       "  function now() {\n",
       "    return new Date();\n",
       "  }\n",
       "\n",
       "  var force = true;\n",
       "\n",
       "  if (typeof (window._bokeh_onload_callbacks) === \"undefined\" || force === true) {\n",
       "    window._bokeh_onload_callbacks = [];\n",
       "    window._bokeh_is_loading = undefined;\n",
       "  }\n",
       "\n",
       "\n",
       "  \n",
       "  if (typeof (window._bokeh_timeout) === \"undefined\" || force === true) {\n",
       "    window._bokeh_timeout = Date.now() + 5000;\n",
       "    window._bokeh_failed_load = false;\n",
       "  }\n",
       "\n",
       "  var NB_LOAD_WARNING = {'data': {'text/html':\n",
       "     \"<div style='background-color: #fdd'>\\n\"+\n",
       "     \"<p>\\n\"+\n",
       "     \"BokehJS does not appear to have successfully loaded. If loading BokehJS from CDN, this \\n\"+\n",
       "     \"may be due to a slow or bad network connection. Possible fixes:\\n\"+\n",
       "     \"</p>\\n\"+\n",
       "     \"<ul>\\n\"+\n",
       "     \"<li>re-rerun `output_notebook()` to attempt to load from CDN again, or</li>\\n\"+\n",
       "     \"<li>use INLINE resources instead, as so:</li>\\n\"+\n",
       "     \"</ul>\\n\"+\n",
       "     \"<code>\\n\"+\n",
       "     \"from bokeh.resources import INLINE\\n\"+\n",
       "     \"output_notebook(resources=INLINE)\\n\"+\n",
       "     \"</code>\\n\"+\n",
       "     \"</div>\"}};\n",
       "\n",
       "  function display_loaded() {\n",
       "    if (window.Bokeh !== undefined) {\n",
       "      document.getElementById(\"2adb6144-dc97-4f95-ad1f-b22105948274\").textContent = \"BokehJS successfully loaded.\";\n",
       "    } else if (Date.now() < window._bokeh_timeout) {\n",
       "      setTimeout(display_loaded, 100)\n",
       "    }\n",
       "  }\n",
       "\n",
       "  function run_callbacks() {\n",
       "    window._bokeh_onload_callbacks.forEach(function(callback) { callback() });\n",
       "    delete window._bokeh_onload_callbacks\n",
       "    console.info(\"Bokeh: all callbacks have finished\");\n",
       "  }\n",
       "\n",
       "  function load_libs(js_urls, callback) {\n",
       "    window._bokeh_onload_callbacks.push(callback);\n",
       "    if (window._bokeh_is_loading > 0) {\n",
       "      console.log(\"Bokeh: BokehJS is being loaded, scheduling callback at\", now());\n",
       "      return null;\n",
       "    }\n",
       "    if (js_urls == null || js_urls.length === 0) {\n",
       "      run_callbacks();\n",
       "      return null;\n",
       "    }\n",
       "    console.log(\"Bokeh: BokehJS not loaded, scheduling load and callback at\", now());\n",
       "    window._bokeh_is_loading = js_urls.length;\n",
       "    for (var i = 0; i < js_urls.length; i++) {\n",
       "      var url = js_urls[i];\n",
       "      var s = document.createElement('script');\n",
       "      s.src = url;\n",
       "      s.async = false;\n",
       "      s.onreadystatechange = s.onload = function() {\n",
       "        window._bokeh_is_loading--;\n",
       "        if (window._bokeh_is_loading === 0) {\n",
       "          console.log(\"Bokeh: all BokehJS libraries loaded\");\n",
       "          run_callbacks()\n",
       "        }\n",
       "      };\n",
       "      s.onerror = function() {\n",
       "        console.warn(\"failed to load library \" + url);\n",
       "      };\n",
       "      console.log(\"Bokeh: injecting script tag for BokehJS library: \", url);\n",
       "      document.getElementsByTagName(\"head\")[0].appendChild(s);\n",
       "    }\n",
       "  };var element = document.getElementById(\"2adb6144-dc97-4f95-ad1f-b22105948274\");\n",
       "  if (element == null) {\n",
       "    console.log(\"Bokeh: ERROR: autoload.js configured with elementid '2adb6144-dc97-4f95-ad1f-b22105948274' but no matching script tag was found. \")\n",
       "    return false;\n",
       "  }\n",
       "\n",
       "  var js_urls = [\"https://cdn.pydata.org/bokeh/release/bokeh-0.12.4.min.js\", \"https://cdn.pydata.org/bokeh/release/bokeh-widgets-0.12.4.min.js\"];\n",
       "\n",
       "  var inline_js = [\n",
       "    function(Bokeh) {\n",
       "      Bokeh.set_log_level(\"info\");\n",
       "    },\n",
       "    \n",
       "    function(Bokeh) {\n",
       "      \n",
       "      document.getElementById(\"2adb6144-dc97-4f95-ad1f-b22105948274\").textContent = \"BokehJS is loading...\";\n",
       "    },\n",
       "    function(Bokeh) {\n",
       "      console.log(\"Bokeh: injecting CSS: https://cdn.pydata.org/bokeh/release/bokeh-0.12.4.min.css\");\n",
       "      Bokeh.embed.inject_css(\"https://cdn.pydata.org/bokeh/release/bokeh-0.12.4.min.css\");\n",
       "      console.log(\"Bokeh: injecting CSS: https://cdn.pydata.org/bokeh/release/bokeh-widgets-0.12.4.min.css\");\n",
       "      Bokeh.embed.inject_css(\"https://cdn.pydata.org/bokeh/release/bokeh-widgets-0.12.4.min.css\");\n",
       "    }\n",
       "  ];\n",
       "\n",
       "  function run_inline_js() {\n",
       "    \n",
       "    if ((window.Bokeh !== undefined) || (force === true)) {\n",
       "      for (var i = 0; i < inline_js.length; i++) {\n",
       "        inline_js[i](window.Bokeh);\n",
       "      }if (force === true) {\n",
       "        display_loaded();\n",
       "      }} else if (Date.now() < window._bokeh_timeout) {\n",
       "      setTimeout(run_inline_js, 100);\n",
       "    } else if (!window._bokeh_failed_load) {\n",
       "      console.log(\"Bokeh: BokehJS failed to load within specified timeout.\");\n",
       "      window._bokeh_failed_load = true;\n",
       "    } else if (force !== true) {\n",
       "      var cell = $(document.getElementById(\"2adb6144-dc97-4f95-ad1f-b22105948274\")).parents('.cell').data().cell;\n",
       "      cell.output_area.append_execute_result(NB_LOAD_WARNING)\n",
       "    }\n",
       "\n",
       "  }\n",
       "\n",
       "  if (window._bokeh_is_loading === 0) {\n",
       "    console.log(\"Bokeh: BokehJS loaded, going straight to plotting\");\n",
       "    run_inline_js();\n",
       "  } else {\n",
       "    load_libs(js_urls, function() {\n",
       "      console.log(\"Bokeh: BokehJS plotting callback run at\", now());\n",
       "      run_inline_js();\n",
       "    });\n",
       "  }\n",
       "}(this));"
      ]
     },
     "metadata": {},
     "output_type": "display_data"
    }
   ],
   "source": [
    "import bokeh.plotting as bp\n",
    "from bokeh.models import HoverTool \n",
    "from bokeh.charts import Scatter, output_file, show\n",
    "from bokeh.sampledata.autompg import autompg as df\n",
    "\n",
    "bp.output_notebook()"
   ]
  },
  {
   "cell_type": "code",
   "execution_count": 22,
   "metadata": {
    "collapsed": false
   },
   "outputs": [
    {
     "ename": "SyntaxError",
     "evalue": "invalid syntax (<ipython-input-22-6bcd6e0b0a4f>, line 13)",
     "output_type": "error",
     "traceback": [
      "\u001b[0;36m  File \u001b[0;32m\"<ipython-input-22-6bcd6e0b0a4f>\"\u001b[0;36m, line \u001b[0;32m13\u001b[0m\n\u001b[0;31m    Scatter(result[:,0], result[:,1], color=colormap)\u001b[0m\n\u001b[0m          ^\u001b[0m\n\u001b[0;31mSyntaxError\u001b[0m\u001b[0;31m:\u001b[0m invalid syntax\n"
     ]
    }
   ],
   "source": [
    "colormap = np.array([\n",
    "    #\"#1f77b4\", \"#aec7e8\", \"#ff7f0e\", \"#ffbb78\", \"#2ca02c\", \n",
    "    #\"#98df8a\", \"#d62728\", \"#ff9896\", \"#9467bd\", \"#c5b0d5\", \n",
    "    #\"#8c564b\", \"#c49c94\", \"#e377c2\", \"#f7b6d2\", \"#7f7f7f\", \n",
    "    #\"#c7c7c7\", \"#bcbd22\", \"#dbdb8d\", \"#17becf\", \"#9edae5\"\n",
    "#])\n",
    "\n",
    "bp.figure(plot_width=900, plot_height=700,  title=\"Subreddit Map by Interesting Dimensions\",\n",
    "       x_axis_label = result[:,0],\n",
    "       y_axis_label =  result[:,1],\n",
    "       tools=\"pan,wheel_zoom,box_zoom,reset,hover,previewsave\",\n",
    "       min_border=1)\n",
    "Scatter(result_bh[:,0], result_bh[:,1], color=colormap) \n",
    "\n",
    "Scatter.show()"
   ]
  },
  {
   "cell_type": "code",
   "execution_count": null,
   "metadata": {
    "collapsed": true
   },
   "outputs": [],
   "source": []
  }
 ],
 "metadata": {
  "kernelspec": {
   "display_name": "Python 2",
   "language": "python",
   "name": "python2"
  },
  "language_info": {
   "codemirror_mode": {
    "name": "ipython",
    "version": 2
   },
   "file_extension": ".py",
   "mimetype": "text/x-python",
   "name": "python",
   "nbconvert_exporter": "python",
   "pygments_lexer": "ipython2",
   "version": "2.7.13"
  }
 },
 "nbformat": 4,
 "nbformat_minor": 2
}
