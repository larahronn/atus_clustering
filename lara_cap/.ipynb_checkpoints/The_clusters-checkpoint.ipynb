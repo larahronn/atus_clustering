{
 "cells": [
  {
   "cell_type": "markdown",
   "metadata": {},
   "source": [
    "# Table of contents\n",
    "1. [Introduction](#introduction)\n",
    "2. [Data](#data)\n",
    "3. [Basic Visualization](#vis)\n",
    "3. [Find the Clusters](#find_clusters)\n",
    "    1. [Dimensionality Reduction?](#dimred)\n",
    "    2. [Apply t-SNE and bh-SNE](#sne) \n",
    "3. [Conclution](#conclu)\n"
   ]
  },
  {
   "cell_type": "markdown",
   "metadata": {},
   "source": [
    "# Introduction <a name='introduction'></a>\n",
    "Can we use unsupervised learning and clustering to divide people into groups based on how they spend their days? The first part of the problem is to find if it is possible in general to categorise people in this way. The second part is to find how many groups there would be and how they interact with each other.\n",
    "\n",
    "We will be using two methods, t-SNE and bh-SNE. Originally this project was supposed to use only t-SNE but further research resulted in the use of bh-SNE. T-SNE is an effective mean for dimension reducion but compared to bh-SNE it is computationally heavy (runnin in O(n2) time). Barnes-Hut t-Distributed Stochastic Neighbor Embedding (BH-SNE) runs in O(n log n) time and is an effective means of quick dimension reduction with little loss in fidelity (https://arxiv.org/pdf/1301.3342v2.pdf)\n",
    "\n",
    "### What next?\n",
    "- Import the functions we need\n",
    "- Load the dataset\n",
    "- Use TruncatedSVD for dimensionality  reduction to make it into a surprisingly informative smaller matrix\n",
    "- Use KMeans to group our participants into some clusters\n",
    "- Use t-SNE and bh-SNE to get coordinates for a scatterplot\n",
    "- Visualize the results"
   ]
  },
  {
   "cell_type": "code",
   "execution_count": 16,
   "metadata": {
    "collapsed": false
   },
   "outputs": [],
   "source": [
    "import numpy as np\n",
    "import pandas as pd\n",
    "import matplotlib.pyplot as plt \n",
    "\n",
    "import seaborn as sns\n",
    "from plotly.graph_objs import *\n",
    "import plotly.plotly as py\n",
    "import plotly.tools as tls\n",
    "\n",
    "import sklearn.cluster as cluster\n",
    "from sklearn.manifold import TSNE\n",
    "from sklearn.decomposition import TruncatedSVD \n",
    "from sklearn.preprocessing import normalize\n",
    "from sklearn.cluster import KMeans\n",
    "from sklearn.preprocessing import StandardScaler\n",
    "from scipy.linalg import svd\n",
    "\n",
    "from tsne import bh_sne\n",
    "import time\n",
    "\n",
    "%matplotlib inline"
   ]
  },
  {
   "cell_type": "markdown",
   "metadata": {},
   "source": [
    "# Data <a name='data'></a>\n",
    "The American Time Use Survey (ATUS) is the Nation’s first federally administered, continuous survey on time use in the United States. The goal of the survey is to measure how people divide their time (in minutes) among life’s activities. Our data comes from the ATUS dataset, from the year 2003 to 2015.\n",
    "\n",
    "We start by importing our datasets. We will import the full `big_data` sets that contains all the time entries from the 170,842 participants to use for our visualization . To use for our calculations we will import both the `s5` and `s10` datasets where we have taken a sample of 5,000 and 10,000 participants. The full dataset is to big for the MacBookPro being used for the creation of this project.\n",
    "\n",
    "We will also import `the_data` data set where the time entries have been manually merged from 431 features to 83 features. This will give us a different prespective on the data."
   ]
  },
  {
   "cell_type": "code",
   "execution_count": 3,
   "metadata": {
    "collapsed": false
   },
   "outputs": [
    {
     "name": "stdout",
     "output_type": "stream",
     "text": [
      "'big_data' dataset has 170842 samples with 431 features each.\n"
     ]
    }
   ],
   "source": [
    "big_data = pd.read_csv('big_data.csv')\n",
    "print \"'big_data' dataset has {} samples with {} features each.\".format(*big_data.shape)"
   ]
  },
  {
   "cell_type": "code",
   "execution_count": 4,
   "metadata": {
    "collapsed": false
   },
   "outputs": [
    {
     "name": "stdout",
     "output_type": "stream",
     "text": [
      "'s5_big_data' dataset has 5000 samples with 431 features each.\n"
     ]
    }
   ],
   "source": [
    "s5_big_data = pd.read_csv('s5_big_data.csv')\n",
    "print \"'s5_big_data' dataset has {} samples with {} features each.\".format(*s5_big_data.shape)"
   ]
  },
  {
   "cell_type": "code",
   "execution_count": 5,
   "metadata": {
    "collapsed": false
   },
   "outputs": [
    {
     "name": "stdout",
     "output_type": "stream",
     "text": [
      "'s10_big_data' dataset has 10000 samples with 431 features each.\n"
     ]
    }
   ],
   "source": [
    "s10_big_data = pd.read_csv('s10big_data.csv')\n",
    "print \"'s10_big_data' dataset has {} samples with {} features each.\".format(*s10_big_data.shape)"
   ]
  },
  {
   "cell_type": "code",
   "execution_count": 6,
   "metadata": {
    "collapsed": false
   },
   "outputs": [
    {
     "name": "stdout",
     "output_type": "stream",
     "text": [
      "'the_data' dataset has 170842 samples with 83 features each.\n"
     ]
    }
   ],
   "source": [
    "the_data = pd.read_csv('the_data.csv')\n",
    "print \"'the_data' dataset has {} samples with {} features each.\".format(*the_data.shape)"
   ]
  },
  {
   "cell_type": "code",
   "execution_count": 7,
   "metadata": {
    "collapsed": false
   },
   "outputs": [
    {
     "name": "stdout",
     "output_type": "stream",
     "text": [
      "'s10_the_data' dataset has 10000 samples with 83 features each.\n"
     ]
    }
   ],
   "source": [
    "s10_the_data = pd.read_csv('s10_the_data.csv')\n",
    "print \"'s10_the_data' dataset has {} samples with {} features each.\".format(*s10_the_data.shape)"
   ]
  },
  {
   "cell_type": "code",
   "execution_count": 8,
   "metadata": {
    "collapsed": false
   },
   "outputs": [
    {
     "name": "stdout",
     "output_type": "stream",
     "text": [
      "'data' dataset has 170842 samples with 90 features each.\n"
     ]
    }
   ],
   "source": [
    "data = pd.read_csv('dropped_data.csv')\n",
    "print \"'data' dataset has {} samples with {} features each.\".format(*data.shape)"
   ]
  },
  {
   "cell_type": "markdown",
   "metadata": {},
   "source": [
    "### The ATUS - `big_data`\n",
    "All data in the ATUS dataset is represented with a numerical values and can be translated using the ATUS Data Dictionary. When manually merging the features, the features that begin with the same TXX number are merged where these numbers indicate the same catagory but explained in more details."
   ]
  },
  {
   "cell_type": "code",
   "execution_count": 8,
   "metadata": {
    "collapsed": false,
    "scrolled": true
   },
   "outputs": [
    {
     "data": {
      "text/html": [
       "<div>\n",
       "<table border=\"1\" class=\"dataframe\">\n",
       "  <thead>\n",
       "    <tr style=\"text-align: right;\">\n",
       "      <th></th>\n",
       "      <th>T010101</th>\n",
       "      <th>T010102</th>\n",
       "      <th>T010199</th>\n",
       "      <th>T010201</th>\n",
       "      <th>T010299</th>\n",
       "      <th>T010301</th>\n",
       "      <th>T010399</th>\n",
       "      <th>T010401</th>\n",
       "      <th>T010499</th>\n",
       "      <th>T010501</th>\n",
       "      <th>...</th>\n",
       "      <th>T181801</th>\n",
       "      <th>T181899</th>\n",
       "      <th>T189999</th>\n",
       "      <th>T500101</th>\n",
       "      <th>T500103</th>\n",
       "      <th>T500104</th>\n",
       "      <th>T500105</th>\n",
       "      <th>T500106</th>\n",
       "      <th>T500107</th>\n",
       "      <th>T509989</th>\n",
       "    </tr>\n",
       "  </thead>\n",
       "  <tbody>\n",
       "    <tr>\n",
       "      <th>0</th>\n",
       "      <td>870.0</td>\n",
       "      <td>0.0</td>\n",
       "      <td>0.0</td>\n",
       "      <td>40.0</td>\n",
       "      <td>0.0</td>\n",
       "      <td>0.0</td>\n",
       "      <td>0.0</td>\n",
       "      <td>0.0</td>\n",
       "      <td>0.0</td>\n",
       "      <td>0.0</td>\n",
       "      <td>...</td>\n",
       "      <td>0.0</td>\n",
       "      <td>0.0</td>\n",
       "      <td>0.0</td>\n",
       "      <td>0.0</td>\n",
       "      <td>0.0</td>\n",
       "      <td>0.0</td>\n",
       "      <td>0.0</td>\n",
       "      <td>0.0</td>\n",
       "      <td>0.0</td>\n",
       "      <td>0.0</td>\n",
       "    </tr>\n",
       "    <tr>\n",
       "      <th>1</th>\n",
       "      <td>620.0</td>\n",
       "      <td>0.0</td>\n",
       "      <td>0.0</td>\n",
       "      <td>60.0</td>\n",
       "      <td>0.0</td>\n",
       "      <td>0.0</td>\n",
       "      <td>0.0</td>\n",
       "      <td>0.0</td>\n",
       "      <td>0.0</td>\n",
       "      <td>0.0</td>\n",
       "      <td>...</td>\n",
       "      <td>0.0</td>\n",
       "      <td>0.0</td>\n",
       "      <td>0.0</td>\n",
       "      <td>0.0</td>\n",
       "      <td>0.0</td>\n",
       "      <td>0.0</td>\n",
       "      <td>0.0</td>\n",
       "      <td>0.0</td>\n",
       "      <td>0.0</td>\n",
       "      <td>0.0</td>\n",
       "    </tr>\n",
       "    <tr>\n",
       "      <th>2</th>\n",
       "      <td>560.0</td>\n",
       "      <td>0.0</td>\n",
       "      <td>0.0</td>\n",
       "      <td>80.0</td>\n",
       "      <td>0.0</td>\n",
       "      <td>0.0</td>\n",
       "      <td>0.0</td>\n",
       "      <td>0.0</td>\n",
       "      <td>0.0</td>\n",
       "      <td>0.0</td>\n",
       "      <td>...</td>\n",
       "      <td>0.0</td>\n",
       "      <td>0.0</td>\n",
       "      <td>0.0</td>\n",
       "      <td>0.0</td>\n",
       "      <td>0.0</td>\n",
       "      <td>0.0</td>\n",
       "      <td>0.0</td>\n",
       "      <td>0.0</td>\n",
       "      <td>0.0</td>\n",
       "      <td>0.0</td>\n",
       "    </tr>\n",
       "    <tr>\n",
       "      <th>3</th>\n",
       "      <td>720.0</td>\n",
       "      <td>0.0</td>\n",
       "      <td>0.0</td>\n",
       "      <td>35.0</td>\n",
       "      <td>0.0</td>\n",
       "      <td>0.0</td>\n",
       "      <td>0.0</td>\n",
       "      <td>0.0</td>\n",
       "      <td>0.0</td>\n",
       "      <td>0.0</td>\n",
       "      <td>...</td>\n",
       "      <td>0.0</td>\n",
       "      <td>0.0</td>\n",
       "      <td>0.0</td>\n",
       "      <td>0.0</td>\n",
       "      <td>0.0</td>\n",
       "      <td>0.0</td>\n",
       "      <td>0.0</td>\n",
       "      <td>0.0</td>\n",
       "      <td>0.0</td>\n",
       "      <td>0.0</td>\n",
       "    </tr>\n",
       "    <tr>\n",
       "      <th>4</th>\n",
       "      <td>385.0</td>\n",
       "      <td>0.0</td>\n",
       "      <td>0.0</td>\n",
       "      <td>75.0</td>\n",
       "      <td>0.0</td>\n",
       "      <td>0.0</td>\n",
       "      <td>0.0</td>\n",
       "      <td>0.0</td>\n",
       "      <td>0.0</td>\n",
       "      <td>0.0</td>\n",
       "      <td>...</td>\n",
       "      <td>0.0</td>\n",
       "      <td>0.0</td>\n",
       "      <td>0.0</td>\n",
       "      <td>0.0</td>\n",
       "      <td>0.0</td>\n",
       "      <td>0.0</td>\n",
       "      <td>0.0</td>\n",
       "      <td>0.0</td>\n",
       "      <td>0.0</td>\n",
       "      <td>0.0</td>\n",
       "    </tr>\n",
       "  </tbody>\n",
       "</table>\n",
       "<p>5 rows × 431 columns</p>\n",
       "</div>"
      ],
      "text/plain": [
       "   T010101  T010102  T010199  T010201  T010299  T010301  T010399  T010401  \\\n",
       "0    870.0      0.0      0.0     40.0      0.0      0.0      0.0      0.0   \n",
       "1    620.0      0.0      0.0     60.0      0.0      0.0      0.0      0.0   \n",
       "2    560.0      0.0      0.0     80.0      0.0      0.0      0.0      0.0   \n",
       "3    720.0      0.0      0.0     35.0      0.0      0.0      0.0      0.0   \n",
       "4    385.0      0.0      0.0     75.0      0.0      0.0      0.0      0.0   \n",
       "\n",
       "   T010499  T010501   ...     T181801  T181899  T189999  T500101  T500103  \\\n",
       "0      0.0      0.0   ...         0.0      0.0      0.0      0.0      0.0   \n",
       "1      0.0      0.0   ...         0.0      0.0      0.0      0.0      0.0   \n",
       "2      0.0      0.0   ...         0.0      0.0      0.0      0.0      0.0   \n",
       "3      0.0      0.0   ...         0.0      0.0      0.0      0.0      0.0   \n",
       "4      0.0      0.0   ...         0.0      0.0      0.0      0.0      0.0   \n",
       "\n",
       "   T500104  T500105  T500106  T500107  T509989  \n",
       "0      0.0      0.0      0.0      0.0      0.0  \n",
       "1      0.0      0.0      0.0      0.0      0.0  \n",
       "2      0.0      0.0      0.0      0.0      0.0  \n",
       "3      0.0      0.0      0.0      0.0      0.0  \n",
       "4      0.0      0.0      0.0      0.0      0.0  \n",
       "\n",
       "[5 rows x 431 columns]"
      ]
     },
     "execution_count": 8,
     "metadata": {},
     "output_type": "execute_result"
    }
   ],
   "source": [
    "big_data.head()"
   ]
  },
  {
   "cell_type": "markdown",
   "metadata": {},
   "source": [
    "### The merged data - `the_data`\n",
    "Here the features are manually merged and renamed for the readers convenience."
   ]
  },
  {
   "cell_type": "code",
   "execution_count": 9,
   "metadata": {
    "collapsed": false
   },
   "outputs": [
    {
     "data": {
      "text/html": [
       "<div>\n",
       "<table border=\"1\" class=\"dataframe\">\n",
       "  <thead>\n",
       "    <tr style=\"text-align: right;\">\n",
       "      <th></th>\n",
       "      <th>ID</th>\n",
       "      <th>Insomnia</th>\n",
       "      <th>Sleeping</th>\n",
       "      <th>Personal Care hygiene</th>\n",
       "      <th>Personal Care health</th>\n",
       "      <th>Househould cleaning</th>\n",
       "      <th>Food/drin prep</th>\n",
       "      <th>Int maintenance</th>\n",
       "      <th>Ext maintenance</th>\n",
       "      <th>Gardenwork</th>\n",
       "      <th>...</th>\n",
       "      <th>Religious/Spiritual Practices</th>\n",
       "      <th>Administrative adn Support Activ.</th>\n",
       "      <th>Social Serv and Car Activ.</th>\n",
       "      <th>Indoor/Outdoor Maintenance</th>\n",
       "      <th>Performance and Culturla Activ.</th>\n",
       "      <th>Attending meetings, conferences, training</th>\n",
       "      <th>Public Health and Safety Activities</th>\n",
       "      <th>Telephone Calls</th>\n",
       "      <th>Travel</th>\n",
       "      <th>Unknown</th>\n",
       "    </tr>\n",
       "  </thead>\n",
       "  <tbody>\n",
       "    <tr>\n",
       "      <th>0</th>\n",
       "      <td>1.0</td>\n",
       "      <td>0.0</td>\n",
       "      <td>870.0</td>\n",
       "      <td>40.0</td>\n",
       "      <td>0.0</td>\n",
       "      <td>0.0</td>\n",
       "      <td>0.0</td>\n",
       "      <td>0.0</td>\n",
       "      <td>0.0</td>\n",
       "      <td>0.0</td>\n",
       "      <td>...</td>\n",
       "      <td>0.0</td>\n",
       "      <td>0.0</td>\n",
       "      <td>0.0</td>\n",
       "      <td>0.0</td>\n",
       "      <td>0.0</td>\n",
       "      <td>0.0</td>\n",
       "      <td>0.0</td>\n",
       "      <td>0.0</td>\n",
       "      <td>0.0</td>\n",
       "      <td>0.0</td>\n",
       "    </tr>\n",
       "    <tr>\n",
       "      <th>1</th>\n",
       "      <td>2.0</td>\n",
       "      <td>0.0</td>\n",
       "      <td>620.0</td>\n",
       "      <td>60.0</td>\n",
       "      <td>0.0</td>\n",
       "      <td>0.0</td>\n",
       "      <td>0.0</td>\n",
       "      <td>0.0</td>\n",
       "      <td>0.0</td>\n",
       "      <td>0.0</td>\n",
       "      <td>...</td>\n",
       "      <td>0.0</td>\n",
       "      <td>0.0</td>\n",
       "      <td>0.0</td>\n",
       "      <td>0.0</td>\n",
       "      <td>0.0</td>\n",
       "      <td>0.0</td>\n",
       "      <td>0.0</td>\n",
       "      <td>0.0</td>\n",
       "      <td>20.0</td>\n",
       "      <td>0.0</td>\n",
       "    </tr>\n",
       "    <tr>\n",
       "      <th>2</th>\n",
       "      <td>3.0</td>\n",
       "      <td>0.0</td>\n",
       "      <td>560.0</td>\n",
       "      <td>80.0</td>\n",
       "      <td>0.0</td>\n",
       "      <td>15.0</td>\n",
       "      <td>240.0</td>\n",
       "      <td>0.0</td>\n",
       "      <td>0.0</td>\n",
       "      <td>0.0</td>\n",
       "      <td>...</td>\n",
       "      <td>0.0</td>\n",
       "      <td>0.0</td>\n",
       "      <td>0.0</td>\n",
       "      <td>0.0</td>\n",
       "      <td>0.0</td>\n",
       "      <td>0.0</td>\n",
       "      <td>0.0</td>\n",
       "      <td>60.0</td>\n",
       "      <td>10.0</td>\n",
       "      <td>0.0</td>\n",
       "    </tr>\n",
       "    <tr>\n",
       "      <th>3</th>\n",
       "      <td>4.0</td>\n",
       "      <td>0.0</td>\n",
       "      <td>720.0</td>\n",
       "      <td>35.0</td>\n",
       "      <td>0.0</td>\n",
       "      <td>0.0</td>\n",
       "      <td>150.0</td>\n",
       "      <td>0.0</td>\n",
       "      <td>0.0</td>\n",
       "      <td>0.0</td>\n",
       "      <td>...</td>\n",
       "      <td>0.0</td>\n",
       "      <td>0.0</td>\n",
       "      <td>0.0</td>\n",
       "      <td>0.0</td>\n",
       "      <td>0.0</td>\n",
       "      <td>0.0</td>\n",
       "      <td>0.0</td>\n",
       "      <td>0.0</td>\n",
       "      <td>0.0</td>\n",
       "      <td>0.0</td>\n",
       "    </tr>\n",
       "    <tr>\n",
       "      <th>4</th>\n",
       "      <td>5.0</td>\n",
       "      <td>0.0</td>\n",
       "      <td>385.0</td>\n",
       "      <td>75.0</td>\n",
       "      <td>0.0</td>\n",
       "      <td>0.0</td>\n",
       "      <td>0.0</td>\n",
       "      <td>0.0</td>\n",
       "      <td>0.0</td>\n",
       "      <td>0.0</td>\n",
       "      <td>...</td>\n",
       "      <td>0.0</td>\n",
       "      <td>0.0</td>\n",
       "      <td>0.0</td>\n",
       "      <td>0.0</td>\n",
       "      <td>0.0</td>\n",
       "      <td>0.0</td>\n",
       "      <td>0.0</td>\n",
       "      <td>0.0</td>\n",
       "      <td>78.0</td>\n",
       "      <td>0.0</td>\n",
       "    </tr>\n",
       "  </tbody>\n",
       "</table>\n",
       "<p>5 rows × 83 columns</p>\n",
       "</div>"
      ],
      "text/plain": [
       "    ID  Insomnia  Sleeping  Personal Care hygiene  Personal Care health  \\\n",
       "0  1.0       0.0     870.0                   40.0                   0.0   \n",
       "1  2.0       0.0     620.0                   60.0                   0.0   \n",
       "2  3.0       0.0     560.0                   80.0                   0.0   \n",
       "3  4.0       0.0     720.0                   35.0                   0.0   \n",
       "4  5.0       0.0     385.0                   75.0                   0.0   \n",
       "\n",
       "   Househould cleaning  Food/drin prep  Int maintenance  Ext maintenance  \\\n",
       "0                  0.0             0.0              0.0              0.0   \n",
       "1                  0.0             0.0              0.0              0.0   \n",
       "2                 15.0           240.0              0.0              0.0   \n",
       "3                  0.0           150.0              0.0              0.0   \n",
       "4                  0.0             0.0              0.0              0.0   \n",
       "\n",
       "   Gardenwork   ...     Religious/Spiritual Practices  \\\n",
       "0         0.0   ...                               0.0   \n",
       "1         0.0   ...                               0.0   \n",
       "2         0.0   ...                               0.0   \n",
       "3         0.0   ...                               0.0   \n",
       "4         0.0   ...                               0.0   \n",
       "\n",
       "   Administrative adn Support Activ.  Social Serv and Car Activ.  \\\n",
       "0                                0.0                         0.0   \n",
       "1                                0.0                         0.0   \n",
       "2                                0.0                         0.0   \n",
       "3                                0.0                         0.0   \n",
       "4                                0.0                         0.0   \n",
       "\n",
       "   Indoor/Outdoor Maintenance  Performance and Culturla Activ.  \\\n",
       "0                         0.0                              0.0   \n",
       "1                         0.0                              0.0   \n",
       "2                         0.0                              0.0   \n",
       "3                         0.0                              0.0   \n",
       "4                         0.0                              0.0   \n",
       "\n",
       "   Attending meetings, conferences, training  \\\n",
       "0                                        0.0   \n",
       "1                                        0.0   \n",
       "2                                        0.0   \n",
       "3                                        0.0   \n",
       "4                                        0.0   \n",
       "\n",
       "   Public Health and Safety Activities  Telephone Calls  Travel  Unknown  \n",
       "0                                  0.0              0.0     0.0      0.0  \n",
       "1                                  0.0              0.0    20.0      0.0  \n",
       "2                                  0.0             60.0    10.0      0.0  \n",
       "3                                  0.0              0.0     0.0      0.0  \n",
       "4                                  0.0              0.0    78.0      0.0  \n",
       "\n",
       "[5 rows x 83 columns]"
      ]
     },
     "execution_count": 9,
     "metadata": {},
     "output_type": "execute_result"
    }
   ],
   "source": [
    "the_data.head()"
   ]
  },
  {
   "cell_type": "markdown",
   "metadata": {},
   "source": [
    "### Basic values - `dropped_data`\n",
    "We will explore some basic values (Age, Sex, Year) with the `dropped_data`."
   ]
  },
  {
   "cell_type": "code",
   "execution_count": 10,
   "metadata": {
    "collapsed": false
   },
   "outputs": [
    {
     "data": {
      "text/html": [
       "<div>\n",
       "<table border=\"1\" class=\"dataframe\">\n",
       "  <thead>\n",
       "    <tr style=\"text-align: right;\">\n",
       "      <th></th>\n",
       "      <th>ID</th>\n",
       "      <th>Age</th>\n",
       "      <th>Work</th>\n",
       "      <th>Sex</th>\n",
       "      <th>Holiday</th>\n",
       "      <th>With spouse?</th>\n",
       "      <th>Day of week</th>\n",
       "      <th>Year</th>\n",
       "      <th>Insomnia</th>\n",
       "      <th>Sleeping</th>\n",
       "      <th>...</th>\n",
       "      <th>Religious/Spiritual Practices</th>\n",
       "      <th>Administrative adn Support Activ.</th>\n",
       "      <th>Social Serv and Car Activ.</th>\n",
       "      <th>Indoor/Outdoor Maintenance</th>\n",
       "      <th>Performance and Culturla Activ.</th>\n",
       "      <th>Attending meetings, conferences, training</th>\n",
       "      <th>Public Health and Safety Activities</th>\n",
       "      <th>Telephone Calls</th>\n",
       "      <th>Travel</th>\n",
       "      <th>Unknown</th>\n",
       "    </tr>\n",
       "  </thead>\n",
       "  <tbody>\n",
       "    <tr>\n",
       "      <th>0</th>\n",
       "      <td>1.0</td>\n",
       "      <td>60.0</td>\n",
       "      <td>yes</td>\n",
       "      <td>male</td>\n",
       "      <td>no</td>\n",
       "      <td>yes</td>\n",
       "      <td>Friday</td>\n",
       "      <td>2003.0</td>\n",
       "      <td>0.0</td>\n",
       "      <td>870.0</td>\n",
       "      <td>...</td>\n",
       "      <td>0.0</td>\n",
       "      <td>0.0</td>\n",
       "      <td>0.0</td>\n",
       "      <td>0.0</td>\n",
       "      <td>0.0</td>\n",
       "      <td>0.0</td>\n",
       "      <td>0.0</td>\n",
       "      <td>0.0</td>\n",
       "      <td>0.0</td>\n",
       "      <td>0.0</td>\n",
       "    </tr>\n",
       "    <tr>\n",
       "      <th>1</th>\n",
       "      <td>2.0</td>\n",
       "      <td>41.0</td>\n",
       "      <td>yes</td>\n",
       "      <td>female</td>\n",
       "      <td>no</td>\n",
       "      <td>yes</td>\n",
       "      <td>Saturday</td>\n",
       "      <td>2003.0</td>\n",
       "      <td>0.0</td>\n",
       "      <td>620.0</td>\n",
       "      <td>...</td>\n",
       "      <td>0.0</td>\n",
       "      <td>0.0</td>\n",
       "      <td>0.0</td>\n",
       "      <td>0.0</td>\n",
       "      <td>0.0</td>\n",
       "      <td>0.0</td>\n",
       "      <td>0.0</td>\n",
       "      <td>0.0</td>\n",
       "      <td>20.0</td>\n",
       "      <td>0.0</td>\n",
       "    </tr>\n",
       "    <tr>\n",
       "      <th>2</th>\n",
       "      <td>3.0</td>\n",
       "      <td>26.0</td>\n",
       "      <td>yes</td>\n",
       "      <td>female</td>\n",
       "      <td>no</td>\n",
       "      <td>yes</td>\n",
       "      <td>Saturday</td>\n",
       "      <td>2003.0</td>\n",
       "      <td>0.0</td>\n",
       "      <td>560.0</td>\n",
       "      <td>...</td>\n",
       "      <td>0.0</td>\n",
       "      <td>0.0</td>\n",
       "      <td>0.0</td>\n",
       "      <td>0.0</td>\n",
       "      <td>0.0</td>\n",
       "      <td>0.0</td>\n",
       "      <td>0.0</td>\n",
       "      <td>60.0</td>\n",
       "      <td>10.0</td>\n",
       "      <td>0.0</td>\n",
       "    </tr>\n",
       "    <tr>\n",
       "      <th>3</th>\n",
       "      <td>4.0</td>\n",
       "      <td>36.0</td>\n",
       "      <td>no</td>\n",
       "      <td>female</td>\n",
       "      <td>no</td>\n",
       "      <td>yes</td>\n",
       "      <td>Thursday</td>\n",
       "      <td>2003.0</td>\n",
       "      <td>0.0</td>\n",
       "      <td>720.0</td>\n",
       "      <td>...</td>\n",
       "      <td>0.0</td>\n",
       "      <td>0.0</td>\n",
       "      <td>0.0</td>\n",
       "      <td>0.0</td>\n",
       "      <td>0.0</td>\n",
       "      <td>0.0</td>\n",
       "      <td>0.0</td>\n",
       "      <td>0.0</td>\n",
       "      <td>0.0</td>\n",
       "      <td>0.0</td>\n",
       "    </tr>\n",
       "    <tr>\n",
       "      <th>4</th>\n",
       "      <td>5.0</td>\n",
       "      <td>51.0</td>\n",
       "      <td>yes</td>\n",
       "      <td>male</td>\n",
       "      <td>no</td>\n",
       "      <td>yes</td>\n",
       "      <td>Thursday</td>\n",
       "      <td>2003.0</td>\n",
       "      <td>0.0</td>\n",
       "      <td>385.0</td>\n",
       "      <td>...</td>\n",
       "      <td>0.0</td>\n",
       "      <td>0.0</td>\n",
       "      <td>0.0</td>\n",
       "      <td>0.0</td>\n",
       "      <td>0.0</td>\n",
       "      <td>0.0</td>\n",
       "      <td>0.0</td>\n",
       "      <td>0.0</td>\n",
       "      <td>78.0</td>\n",
       "      <td>0.0</td>\n",
       "    </tr>\n",
       "  </tbody>\n",
       "</table>\n",
       "<p>5 rows × 90 columns</p>\n",
       "</div>"
      ],
      "text/plain": [
       "    ID   Age Work     Sex Holiday With spouse? Day of week    Year  Insomnia  \\\n",
       "0  1.0  60.0  yes    male      no          yes      Friday  2003.0       0.0   \n",
       "1  2.0  41.0  yes  female      no          yes    Saturday  2003.0       0.0   \n",
       "2  3.0  26.0  yes  female      no          yes    Saturday  2003.0       0.0   \n",
       "3  4.0  36.0   no  female      no          yes    Thursday  2003.0       0.0   \n",
       "4  5.0  51.0  yes    male      no          yes    Thursday  2003.0       0.0   \n",
       "\n",
       "   Sleeping   ...     Religious/Spiritual Practices  \\\n",
       "0     870.0   ...                               0.0   \n",
       "1     620.0   ...                               0.0   \n",
       "2     560.0   ...                               0.0   \n",
       "3     720.0   ...                               0.0   \n",
       "4     385.0   ...                               0.0   \n",
       "\n",
       "   Administrative adn Support Activ.  Social Serv and Car Activ.  \\\n",
       "0                                0.0                         0.0   \n",
       "1                                0.0                         0.0   \n",
       "2                                0.0                         0.0   \n",
       "3                                0.0                         0.0   \n",
       "4                                0.0                         0.0   \n",
       "\n",
       "   Indoor/Outdoor Maintenance  Performance and Culturla Activ.  \\\n",
       "0                         0.0                              0.0   \n",
       "1                         0.0                              0.0   \n",
       "2                         0.0                              0.0   \n",
       "3                         0.0                              0.0   \n",
       "4                         0.0                              0.0   \n",
       "\n",
       "   Attending meetings, conferences, training  \\\n",
       "0                                        0.0   \n",
       "1                                        0.0   \n",
       "2                                        0.0   \n",
       "3                                        0.0   \n",
       "4                                        0.0   \n",
       "\n",
       "   Public Health and Safety Activities  Telephone Calls  Travel  Unknown  \n",
       "0                                  0.0              0.0     0.0      0.0  \n",
       "1                                  0.0              0.0    20.0      0.0  \n",
       "2                                  0.0             60.0    10.0      0.0  \n",
       "3                                  0.0              0.0     0.0      0.0  \n",
       "4                                  0.0              0.0    78.0      0.0  \n",
       "\n",
       "[5 rows x 90 columns]"
      ]
     },
     "execution_count": 10,
     "metadata": {},
     "output_type": "execute_result"
    }
   ],
   "source": [
    "data.head()"
   ]
  },
  {
   "cell_type": "markdown",
   "metadata": {},
   "source": [
    "## A lot of zeroes there...\n",
    "Let's figure out how many zeroes there are compared to size of the data. First how many values are there:"
   ]
  },
  {
   "cell_type": "code",
   "execution_count": 11,
   "metadata": {
    "collapsed": false
   },
   "outputs": [
    {
     "data": {
      "text/plain": [
       "73632902"
      ]
     },
     "execution_count": 11,
     "metadata": {},
     "output_type": "execute_result"
    }
   ],
   "source": [
    "datap = big_data.shape\n",
    "datap[0]*datap[1]"
   ]
  },
  {
   "cell_type": "markdown",
   "metadata": {},
   "source": [
    "...then how many zeroes are there:"
   ]
  },
  {
   "cell_type": "code",
   "execution_count": 12,
   "metadata": {
    "collapsed": false
   },
   "outputs": [
    {
     "name": "stdout",
     "output_type": "stream",
     "text": [
      "0.0    71633870.0\n",
      "Name: Total, dtype: float64\n"
     ]
    }
   ],
   "source": [
    "the_big_values = big_data.apply(pd.value_counts)\n",
    "the_big_values['Total'] = the_big_values.sum(axis=1)\n",
    "print the_big_values['Total'].head(1)"
   ]
  },
  {
   "cell_type": "markdown",
   "metadata": {},
   "source": [
    "The `big_data` contains about **97%** zeroes."
   ]
  },
  {
   "cell_type": "code",
   "execution_count": 13,
   "metadata": {
    "collapsed": false
   },
   "outputs": [
    {
     "data": {
      "text/plain": [
       "14179886"
      ]
     },
     "execution_count": 13,
     "metadata": {},
     "output_type": "execute_result"
    }
   ],
   "source": [
    "datapoints = the_data.shape\n",
    "datapoints[0]*datapoints[1]"
   ]
  },
  {
   "cell_type": "code",
   "execution_count": 14,
   "metadata": {
    "collapsed": false
   },
   "outputs": [
    {
     "name": "stdout",
     "output_type": "stream",
     "text": [
      "0.0    12409322.0\n",
      "Name: Total, dtype: float64\n"
     ]
    }
   ],
   "source": [
    "the_values = the_data.apply(pd.value_counts)\n",
    "the_values['Total'] = the_values.sum(axis=1)\n",
    "print the_values['Total'].head(1)"
   ]
  },
  {
   "cell_type": "markdown",
   "metadata": {},
   "source": [
    "Just under **88%** of the `the_data` (manually merged data) are zeroes.\n",
    "\n",
    "In both cases quite a lot of zeroes and we are obviusely dealing with wery sparse matrixes."
   ]
  },
  {
   "cell_type": "markdown",
   "metadata": {},
   "source": [
    "# Basic Visualization <a name='vis'></a>\n",
    "\n",
    "We will begin with exploring how many participants there were each year:"
   ]
  },
  {
   "cell_type": "code",
   "execution_count": 15,
   "metadata": {
    "collapsed": false
   },
   "outputs": [
    {
     "data": {
      "text/plain": [
       "<matplotlib.axes._subplots.AxesSubplot at 0x11a736d90>"
      ]
     },
     "execution_count": 15,
     "metadata": {},
     "output_type": "execute_result"
    },
    {
     "data": {
      "image/png": "[encoded data removed]",
      "text/plain": [
       "<matplotlib.figure.Figure at 0x11a708050>"
      ]
     },
     "metadata": {},
     "output_type": "display_data"
    }
   ],
   "source": [
    "plt.figure(figsize=(15,10))\n",
    "sns.countplot(x='Sex', data=data, hue='Year')"
   ]
  },
  {
   "cell_type": "markdown",
   "metadata": {},
   "source": [
    "On this plot we can see that the first year (2003) had the most participants an in all cases female participants are more than male. "
   ]
  },
  {
   "cell_type": "code",
   "execution_count": 16,
   "metadata": {
    "collapsed": false
   },
   "outputs": [
    {
     "data": {
      "text/plain": [
       "<matplotlib.axes._subplots.AxesSubplot at 0x10e9fbe10>"
      ]
     },
     "execution_count": 16,
     "metadata": {},
     "output_type": "execute_result"
    },
    {
     "data": {
      "image/png": "[encoded data removed]",
      "text/plain": [
       "<matplotlib.figure.Figure at 0x10d202990>"
      ]
     },
     "metadata": {},
     "output_type": "display_data"
    }
   ],
   "source": [
    "plt.figure(figsize=(15,7))\n",
    "sns.countplot(x='Day of week', data=data)"
   ]
  },
  {
   "cell_type": "markdown",
   "metadata": {},
   "source": [
    "There are more people asked about their weekends then there are for the weekdays. This is to weigh against the 5 weekdays."
   ]
  },
  {
   "cell_type": "code",
   "execution_count": 17,
   "metadata": {
    "collapsed": false,
    "scrolled": false
   },
   "outputs": [
    {
     "data": {
      "text/plain": [
       "<matplotlib.axes._subplots.AxesSubplot at 0x10ea33150>"
      ]
     },
     "execution_count": 17,
     "metadata": {},
     "output_type": "execute_result"
    },
    {
     "data": {
      "image/png": "[encoded data removed]",
      "text/plain": [
       "<matplotlib.figure.Figure at 0x10ea33110>"
      ]
     },
     "metadata": {},
     "output_type": "display_data"
    }
   ],
   "source": [
    "plt.figure(figsize=(15,7))\n",
    "sns.distplot(data['Age'], kde=False, bins=9)"
   ]
  },
  {
   "cell_type": "code",
   "execution_count": 18,
   "metadata": {
    "collapsed": false
   },
   "outputs": [
    {
     "data": {
      "text/plain": [
       "15.0"
      ]
     },
     "execution_count": 18,
     "metadata": {},
     "output_type": "execute_result"
    }
   ],
   "source": [
    "data['Age'].min()"
   ]
  },
  {
   "cell_type": "code",
   "execution_count": 19,
   "metadata": {
    "collapsed": false
   },
   "outputs": [
    {
     "data": {
      "text/plain": [
       "85.0"
      ]
     },
     "execution_count": 19,
     "metadata": {},
     "output_type": "execute_result"
    }
   ],
   "source": [
    "data['Age'].max()"
   ]
  },
  {
   "cell_type": "markdown",
   "metadata": {},
   "source": [
    "The range is from 15 to 85. Most participants are between 30 to 60 years old. "
   ]
  },
  {
   "cell_type": "code",
   "execution_count": 20,
   "metadata": {
    "collapsed": false
   },
   "outputs": [
    {
     "data": {
      "image/png": "[encoded data removed]",
      "text/plain": [
       "<matplotlib.figure.Figure at 0x11c0fd610>"
      ]
     },
     "metadata": {},
     "output_type": "display_data"
    }
   ],
   "source": [
    "the_sum = the_data.sum(axis=0)\n",
    "the_sum0 = the_sum.drop(['ID'])\n",
    "the_sum1 = the_sum0.sort_values(ascending=False)\n",
    "#the_sum2 = the_sum1.head(20)\n",
    "plt.figure(figsize=(40,30))\n",
    "my_plot = the_sum1.plot(kind='bar')"
   ]
  },
  {
   "cell_type": "markdown",
   "metadata": {},
   "source": [
    "In total, participants spent by far the most time sleeping. After sleeping the most common activity seems to be watching television and then working."
   ]
  },
  {
   "cell_type": "markdown",
   "metadata": {},
   "source": [
    "**Here we have the top 20 activities:**"
   ]
  },
  {
   "cell_type": "code",
   "execution_count": 21,
   "metadata": {
    "collapsed": false
   },
   "outputs": [
    {
     "data": {
      "text/plain": [
       "Sleeping                                       89623729.0\n",
       "Television                                     29111630.0\n",
       "Working                                        26689962.0\n",
       "Travel                                         12289719.0\n",
       "Eating and Drinking                            11510025.0\n",
       "Househould cleaning                             9382746.0\n",
       "Socializing                                     7176490.0\n",
       "Personal Care hygiene                           6879269.0\n",
       "Food/drin prep                                  6102019.0\n",
       "HH children, caring                             4839364.0\n",
       "Shopping                                        4429149.0\n",
       "Reading                                         3930034.0\n",
       "Relaxing, thinking                              3124825.0\n",
       "Participating in Sports/Exercise/Recreation     2975198.0\n",
       "Household manag                                 2193382.0\n",
       "Religious/Spiritual Practices                   2184696.0\n",
       "Gardenwork                                      2149676.0\n",
       "Unknown                                         2052733.0\n",
       "Playing games                                   1839033.0\n",
       "Computer leisure                                1643042.0\n",
       "dtype: float64"
      ]
     },
     "execution_count": 21,
     "metadata": {},
     "output_type": "execute_result"
    }
   ],
   "source": [
    "the_sum1.head(20)"
   ]
  },
  {
   "cell_type": "markdown",
   "metadata": {},
   "source": [
    "Let's take a closer look on the relationship between age and sleep. We will start by deviding the participants in to 7 age groups."
   ]
  },
  {
   "cell_type": "code",
   "execution_count": 22,
   "metadata": {
    "collapsed": false
   },
   "outputs": [
    {
     "data": {
      "text/plain": [
       "35-44    35382\n",
       "45-54    31176\n",
       "25-34    29255\n",
       "55-64    25069\n",
       "15-24    18439\n",
       "65-74    16678\n",
       "75-85    12800\n",
       "Name: categories, dtype: int64"
      ]
     },
     "execution_count": 22,
     "metadata": {},
     "output_type": "execute_result"
    }
   ],
   "source": [
    "bins = [15, 25, 35, 45, 55, 65, 75, 85]\n",
    "group_names = ['15-24', '25-34', '35-44', '45-54', '55-64', '65-74', '75-85']\n",
    "categories = pd.cut(data['Age'], bins, labels=group_names)\n",
    "data['categories'] = pd.cut(data['Age'], bins, labels=group_names)\n",
    "age_groups = pd.value_counts(data['categories'])\n",
    "age_groups"
   ]
  },
  {
   "cell_type": "code",
   "execution_count": 23,
   "metadata": {
    "collapsed": false
   },
   "outputs": [
    {
     "data": {
      "text/plain": [
       "<matplotlib.axes._subplots.AxesSubplot at 0x11a7080d0>"
      ]
     },
     "execution_count": 23,
     "metadata": {},
     "output_type": "execute_result"
    },
    {
     "data": {
      "image/png": "[encoded data removed]",
      "text/plain": [
       "<matplotlib.figure.Figure at 0x11c4c8910>"
      ]
     },
     "metadata": {},
     "output_type": "display_data"
    }
   ],
   "source": [
    "sns.set_style('ticks')\n",
    "fig, ax = plt.subplots()\n",
    "fig.set_size_inches(12.7, 8.27)\n",
    "sns.violinplot(x='categories', y='Sleeping', hue='Sex', data=data, split=True, ax=ax)"
   ]
  },
  {
   "cell_type": "markdown",
   "metadata": {},
   "source": [
    "Here we have the distribution of minutes of sleep for male and female in certain age groups. It is interesting to see that we have the youngest age group gets the most Sleep and the widest range.In general it seems that males are sleeping less the females, exept for in the two oldes groups where it evens out a litle bit. Sleep increases again in the top two age groups."
   ]
  },
  {
   "cell_type": "markdown",
   "metadata": {},
   "source": [
    "# Find the clusters <a name='find_clusters')></a>\n",
    "We have successfully imported the data and visualized it to get some basic knowledge about it. Now we are going to see if we can actually cluster the respondents and divide them into some sort of groups or clusters. \n",
    "\n",
    "\n",
    "### Let's get started..."
   ]
  },
  {
   "cell_type": "markdown",
   "metadata": {},
   "source": [
    "## Dimensionality reduction <a name='dimred'></a>\n",
    "There are many zeroes in our data. In this part I will use both the manually merged data ('the_data') and the dimensionality reduced data of 'big_data' where the data points have not been manually merged."
   ]
  },
  {
   "cell_type": "markdown",
   "metadata": {},
   "source": [
    "There are many zeroes in our data. In this part I will use both the manually merged data ('the_data') and the dimensionality reduced data of 'big_data' where the data points have not been manually merged. Because of the sparsity of the data (88% and 97%) we will use the ARPACK wrapper (scipy.sparse.linalg.svds) with the TruncatedSVD."
   ]
  },
  {
   "cell_type": "code",
   "execution_count": 9,
   "metadata": {
    "collapsed": false,
    "scrolled": true
   },
   "outputs": [
    {
     "name": "stdout",
     "output_type": "stream",
     "text": [
      "CPU times: user 1.28 s, sys: 58.1 ms, total: 1.34 s\n",
      "Wall time: 812 ms\n"
     ]
    }
   ],
   "source": [
    "%%time\n",
    "svd = TruncatedSVD(algorithm='arpack', n_components=100)\n",
    "embedded_coords = normalize(svd.fit_transform(s5_big_data), norm='l1')"
   ]
  },
  {
   "cell_type": "code",
   "execution_count": 10,
   "metadata": {
    "collapsed": false
   },
   "outputs": [
    {
     "data": {
      "text/plain": [
       "<matplotlib.axes._subplots.AxesSubplot at 0x10f640190>"
      ]
     },
     "execution_count": 10,
     "metadata": {},
     "output_type": "execute_result"
    },
    {
     "data": {
      "image/png": "[encoded data removed]",
      "text/plain": [
       "<matplotlib.figure.Figure at 0x1042e4910>"
      ]
     },
     "metadata": {},
     "output_type": "display_data"
    }
   ],
   "source": [
    "pd.DataFrame(np.cumsum(svd.explained_variance_ratio_)).plot()"
   ]
  },
  {
   "cell_type": "markdown",
   "metadata": {},
   "source": [
    "It seems like we can compress the 431 features into 100 components loosing less than 10% variance. It seems wee are not gaining to much after the first 40 components, where we are maintaining about 90% of the variance."
   ]
  },
  {
   "cell_type": "code",
   "execution_count": 11,
   "metadata": {
    "collapsed": false
   },
   "outputs": [
    {
     "name": "stdout",
     "output_type": "stream",
     "text": [
      "CPU times: user 2.2 s, sys: 64.1 ms, total: 2.27 s\n",
      "Wall time: 1.24 s\n"
     ]
    }
   ],
   "source": [
    "%%time\n",
    "\n",
    "svd1 = TruncatedSVD(algorithm='arpack', n_components=100)\n",
    "embedded_coords1 = normalize(svd1.fit_transform(s10_big_data), norm='l1')"
   ]
  },
  {
   "cell_type": "code",
   "execution_count": 12,
   "metadata": {
    "collapsed": false
   },
   "outputs": [
    {
     "data": {
      "text/plain": [
       "<matplotlib.axes._subplots.AxesSubplot at 0x10ed2ff90>"
      ]
     },
     "execution_count": 12,
     "metadata": {},
     "output_type": "execute_result"
    },
    {
     "data": {
      "image/png": "[encoded data removed]",
      "text/plain": [
       "<matplotlib.figure.Figure at 0x1042e4890>"
      ]
     },
     "metadata": {},
     "output_type": "display_data"
    }
   ],
   "source": [
    "pd.DataFrame(np.cumsum(svd1.explained_variance_ratio_)).plot()"
   ]
  },
  {
   "cell_type": "code",
   "execution_count": 13,
   "metadata": {
    "collapsed": true
   },
   "outputs": [],
   "source": [
    "s10_the_data = the_data.sample(n=10000)"
   ]
  },
  {
   "cell_type": "code",
   "execution_count": 14,
   "metadata": {
    "collapsed": false
   },
   "outputs": [
    {
     "name": "stdout",
     "output_type": "stream",
     "text": [
      "CPU times: user 95.5 ms, sys: 5.83 ms, total: 101 ms\n",
      "Wall time: 54.9 ms\n"
     ]
    }
   ],
   "source": [
    "%%time\n",
    "\n",
    "svd2 = TruncatedSVD(algorithm='arpack', n_components=5)\n",
    "embedded_coords2 = normalize(svd2.fit_transform(s10_the_data), norm='l1')"
   ]
  },
  {
   "cell_type": "code",
   "execution_count": 15,
   "metadata": {
    "collapsed": false
   },
   "outputs": [
    {
     "data": {
      "text/plain": [
       "<matplotlib.axes._subplots.AxesSubplot at 0x10f628290>"
      ]
     },
     "execution_count": 15,
     "metadata": {},
     "output_type": "execute_result"
    },
    {
     "data": {
      "image/png": "[encoded data removed]",
      "text/plain": [
       "<matplotlib.figure.Figure at 0x10f601490>"
      ]
     },
     "metadata": {},
     "output_type": "display_data"
    }
   ],
   "source": [
    "pd.DataFrame(np.cumsum(svd2.explained_variance_ratio_)).plot()"
   ]
  },
  {
   "cell_type": "markdown",
   "metadata": {},
   "source": [
    "## Apply t-SNE and bh-SNE <a name='sne'></a>\n",
    "\n",
    "Now we´ll run TSNE to get coordinates for our scatterplots. TSNE converts similarities between data points to joint probabilities and tries to minimize the Kullback-Leibler divergence between the joint probabilities of the low-dimensional embedding and the high-dimensional data. \n",
    "\n",
    "**skrifa um bh-SNE líka**"
   ]
  },
  {
   "cell_type": "markdown",
   "metadata": {},
   "source": [
    "### t-SNE with SVD"
   ]
  },
  {
   "cell_type": "code",
   "execution_count": null,
   "metadata": {
    "collapsed": false
   },
   "outputs": [],
   "source": [
    "%%time\n",
    "\n",
    "result = TSNE(n_components=40, random_state=0).fit_transform(embedded_coords)"
   ]
  },
  {
   "cell_type": "markdown",
   "metadata": {},
   "source": [
    "### bh-SNE with SVD"
   ]
  },
  {
   "cell_type": "code",
   "execution_count": null,
   "metadata": {
    "collapsed": false
   },
   "outputs": [],
   "source": [
    "%%time\n",
    "\n",
    "result_emb_bh_the_data = bh_sne(embedded_coords1)"
   ]
  },
  {
   "cell_type": "markdown",
   "metadata": {},
   "source": [
    "### bh-SNE directly "
   ]
  },
  {
   "cell_type": "code",
   "execution_count": null,
   "metadata": {
    "collapsed": false
   },
   "outputs": [],
   "source": [
    "%%time\n",
    "\n",
    "result_bh = bh_sne(s10_big_data)"
   ]
  },
  {
   "cell_type": "markdown",
   "metadata": {},
   "source": [
    "### t-SNE with SVD on data on manually merged data"
   ]
  },
  {
   "cell_type": "code",
   "execution_count": null,
   "metadata": {
    "collapsed": true
   },
   "outputs": [],
   "source": [
    "result2 = TSNE(n_components=2, random_state=0).fit_transform(embedded_coords2)"
   ]
  },
  {
   "cell_type": "markdown",
   "metadata": {},
   "source": [
    "### bh-SNE with SVD on data on manually merged data"
   ]
  },
  {
   "cell_type": "code",
   "execution_count": null,
   "metadata": {
    "collapsed": true
   },
   "outputs": [],
   "source": [
    "result_emb_bh_the_data = bh_sne(embedded_coords2)"
   ]
  },
  {
   "cell_type": "markdown",
   "metadata": {},
   "source": [
    "### bh-SNE directly on manually merged data"
   ]
  },
  {
   "cell_type": "code",
   "execution_count": null,
   "metadata": {
    "collapsed": true
   },
   "outputs": [],
   "source": [
    "%%time\n",
    "\n",
    "result_bh_the_data = bh_sne(s10_the_data)"
   ]
  },
  {
   "cell_type": "markdown",
   "metadata": {},
   "source": [
    "We can clearly see that t-SNE with SVD requiers much more Wall time than bh-SNE with and without SVD. Lets see what gives us the best clustering results."
   ]
  },
  {
   "cell_type": "markdown",
   "metadata": {},
   "source": [
    "# Clustering with KMeans"
   ]
  },
  {
   "cell_type": "markdown",
   "metadata": {},
   "source": [
    "We´ll run a silhouette_score to decide the amount of clusters."
   ]
  },
  {
   "cell_type": "code",
   "execution_count": null,
   "metadata": {
    "collapsed": false
   },
   "outputs": [],
   "source": [
    "cluster_range = list(range(2,150)) \n",
    "#Go through with different n_components to find the best silhouette score\n",
    "\n",
    "for n_cluster in cluster_range:\n",
    "    # Apply your clustering algorithm of choice to the reduced data \n",
    "    clusterer = KMeans(n_cluster, random_state=2).fit(result)\n",
    "    \n",
    "    # Predict the cluster for each data point\n",
    "    preds = clusterer.predict(result)\n",
    "      \n",
    "    # Calculate the mean silhouette coefficient for the number of clusters chosen\n",
    "    score = silhouette_score(result, preds)\n",
    "    \n",
    "    print \"The score for n_cluster = {}. is : {}\". format(n_cluster, score)\n",
    "    \n",
    "#Score for 2 - 99 clusters ranges from 0.36 to 0.46 and continuing going up."
   ]
  },
  {
   "cell_type": "code",
   "execution_count": null,
   "metadata": {
    "collapsed": false
   },
   "outputs": [],
   "source": [
    "cluster_range = list(range(2,100)) \n",
    "#Go through with different n_components to find the best silhouette score\n",
    "\n",
    "for n_cluster in cluster_range:\n",
    "    # Apply your clustering algorithm of choice to the reduced data \n",
    "    clusterer = KMeans(n_cluster, random_state=2).fit(result_emb_bh)\n",
    "    \n",
    "    # Predict the cluster for each data point\n",
    "    preds = clusterer.predict(result_emb_bh)\n",
    "      \n",
    "    # Calculate the mean silhouette coefficient for the number of clusters chosen\n",
    "    score = silhouette_score(result_emb_bh, preds)\n",
    "    \n",
    "    print \"The score for n_cluster = {}. is : {}\". format(n_cluster, score)\n",
    "    \n",
    "#Score for 2 - 99 clusters ranges from 0.38 to 0.42 at 48 clusters."
   ]
  },
  {
   "cell_type": "code",
   "execution_count": null,
   "metadata": {
    "collapsed": false
   },
   "outputs": [],
   "source": [
    "cluster_range = list(range(2,20)) \n",
    "#Go through with different n_components to find the best silhouette score\n",
    "\n",
    "for n_cluster in cluster_range:\n",
    "    # Apply your clustering algorithm of choice to the reduced data \n",
    "    clusterer = KMeans(n_cluster, random_state=2).fit(result_bh)\n",
    "    \n",
    "    # Predict the cluster for each data point\n",
    "    preds = clusterer.predict(result_bh)\n",
    "      \n",
    "    # Calculate the mean silhouette coefficient for the number of clusters chosen\n",
    "    score = silhouette_score(result_bh, preds)\n",
    "    \n",
    "    print \"The score for n_cluster = {}. is : {}\". format(n_cluster, score)\n",
    "\n",
    "#Highest score is for 3 clusters = 0.436"
   ]
  },
  {
   "cell_type": "code",
   "execution_count": null,
   "metadata": {
    "collapsed": true
   },
   "outputs": [],
   "source": [
    "cluster_range = list(range(2,10)) \n",
    "#Go through with different n_components to find the best silhouette score\n",
    "\n",
    "for n_cluster in cluster_range:\n",
    "    # Apply your clustering algorithm of choice to the reduced data \n",
    "    clusterer = KMeans(n_cluster, random_state=2).fit(result2)\n",
    "    \n",
    "    # Predict the cluster for each data point\n",
    "    preds = clusterer.predict(result_bh)\n",
    "      \n",
    "    # Calculate the mean silhouette coefficient for the number of clusters chosen\n",
    "    score = silhouette_score(result_bh, preds)\n",
    "    \n",
    "    print \"The score for n_cluster = {}. is : {}\". format(n_cluster, score)\n"
   ]
  },
  {
   "cell_type": "code",
   "execution_count": null,
   "metadata": {
    "collapsed": true
   },
   "outputs": [],
   "source": [
    "cluster_range = list(range(2,10)) \n",
    "#Go through with different n_components to find the best silhouette score\n",
    "\n",
    "for n_cluster in cluster_range:\n",
    "    # Apply your clustering algorithm of choice to the reduced data \n",
    "    clusterer = KMeans(n_cluster, random_state=2).fit(result_emb_bh_the_data)\n",
    "    \n",
    "    # Predict the cluster for each data point\n",
    "    preds = clusterer.predict(result_bh)\n",
    "      \n",
    "    # Calculate the mean silhouette coefficient for the number of clusters chosen\n",
    "    score = silhouette_score(result_bh, preds)\n",
    "    \n",
    "    print \"The score for n_cluster = {}. is : {}\". format(n_cluster, score)\n"
   ]
  },
  {
   "cell_type": "code",
   "execution_count": null,
   "metadata": {
    "collapsed": true
   },
   "outputs": [],
   "source": [
    "cluster_range = list(range(2,10)) \n",
    "#Go through with different n_components to find the best silhouette score\n",
    "\n",
    "for n_cluster in cluster_range:\n",
    "    # Apply your clustering algorithm of choice to the reduced data \n",
    "    clusterer = KMeans(n_cluster, random_state=2).fit(result_bh_the_data)\n",
    "    \n",
    "    # Predict the cluster for each data point\n",
    "    preds = clusterer.predict(result_bh)\n",
    "      \n",
    "    # Calculate the mean silhouette coefficient for the number of clusters chosen\n",
    "    score = silhouette_score(result_bh, preds)\n",
    "    \n",
    "    print \"The score for n_cluster = {}. is : {}\". format(n_cluster, score)\n"
   ]
  },
  {
   "cell_type": "markdown",
   "metadata": {},
   "source": [
    "#### How many clusters?\n",
    "They all get pritty high scores but the silhouette score is the highest for 2 clusters and therefore we´ll use that."
   ]
  },
  {
   "cell_type": "markdown",
   "metadata": {},
   "source": [
    "We´ll run KMeans to group our participants into the clusters."
   ]
  },
  {
   "cell_type": "code",
   "execution_count": 36,
   "metadata": {
    "collapsed": false
   },
   "outputs": [
    {
     "name": "stdout",
     "output_type": "stream",
     "text": [
      "CPU times: user 2.18 s, sys: 249 ms, total: 2.43 s\n",
      "Wall time: 1.26 s\n"
     ]
    }
   ],
   "source": [
    "%%time\n",
    "\n",
    "n_clusters = 69\n",
    "km = KMeans(n_clusters)\n",
    "clusters = km.fit_predict(result)\n",
    "labels = km.labels_"
   ]
  },
  {
   "cell_type": "code",
   "execution_count": 37,
   "metadata": {
    "collapsed": false
   },
   "outputs": [
    {
     "name": "stdout",
     "output_type": "stream",
     "text": [
      "CPU times: user 2.47 s, sys: 321 ms, total: 2.8 s\n",
      "Wall time: 1.49 s\n"
     ]
    }
   ],
   "source": [
    "%%time\n",
    "\n",
    "n_clusters = 48\n",
    "km = KMeans(n_clusters)\n",
    "clusters1 = km.fit_predict(result_emb_bh)\n",
    "labels1 = km.labels_"
   ]
  },
  {
   "cell_type": "code",
   "execution_count": 25,
   "metadata": {
    "collapsed": false
   },
   "outputs": [
    {
     "name": "stdout",
     "output_type": "stream",
     "text": [
      "CPU times: user 139 ms, sys: 4.18 ms, total: 143 ms\n",
      "Wall time: 91.8 ms\n"
     ]
    }
   ],
   "source": [
    "%%time\n",
    "\n",
    "n_clusters = 3\n",
    "km = KMeans(n_clusters)\n",
    "clusters2 = km.fit_predict(result_bh)\n",
    "labels2 = km.labels_"
   ]
  },
  {
   "cell_type": "markdown",
   "metadata": {},
   "source": [
    "## Scatterplots\n",
    "As we can see on the scatterplots, in both cases, there are two clusters and in both cases the second cluster is significantly smaller than the other."
   ]
  },
  {
   "cell_type": "code",
   "execution_count": 1,
   "metadata": {
    "collapsed": false,
    "scrolled": true
   },
   "outputs": [
    {
     "ename": "NameError",
     "evalue": "name 'plt' is not defined",
     "output_type": "error",
     "traceback": [
      "\u001b[0;31m---------------------------------------------------------------------------\u001b[0m",
      "\u001b[0;31mNameError\u001b[0m                                 Traceback (most recent call last)",
      "\u001b[0;32m<ipython-input-1-bf0432e26496>\u001b[0m in \u001b[0;36m<module>\u001b[0;34m()\u001b[0m\n\u001b[0;32m----> 1\u001b[0;31m \u001b[0mfig\u001b[0m \u001b[0;34m=\u001b[0m \u001b[0mplt\u001b[0m\u001b[0;34m.\u001b[0m\u001b[0mfigure\u001b[0m\u001b[0;34m(\u001b[0m\u001b[0mfigsize\u001b[0m\u001b[0;34m=\u001b[0m\u001b[0;34m(\u001b[0m\u001b[0;36m20\u001b[0m\u001b[0;34m,\u001b[0m\u001b[0;36m10\u001b[0m\u001b[0;34m)\u001b[0m\u001b[0;34m)\u001b[0m\u001b[0;34m\u001b[0m\u001b[0m\n\u001b[0m\u001b[1;32m      2\u001b[0m \u001b[0mplt\u001b[0m\u001b[0;34m.\u001b[0m\u001b[0msubplot2grid\u001b[0m\u001b[0;34m(\u001b[0m\u001b[0;34m(\u001b[0m\u001b[0;36m1\u001b[0m\u001b[0;34m,\u001b[0m\u001b[0;36m2\u001b[0m\u001b[0;34m)\u001b[0m\u001b[0;34m,\u001b[0m \u001b[0;34m(\u001b[0m\u001b[0;36m0\u001b[0m\u001b[0;34m,\u001b[0m\u001b[0;36m0\u001b[0m\u001b[0;34m)\u001b[0m\u001b[0;34m)\u001b[0m\u001b[0;34m\u001b[0m\u001b[0m\n\u001b[1;32m      3\u001b[0m \u001b[0mplt\u001b[0m\u001b[0;34m.\u001b[0m\u001b[0mtitle\u001b[0m\u001b[0;34m(\u001b[0m\u001b[0;34m'big_data'\u001b[0m\u001b[0;34m)\u001b[0m\u001b[0;34m\u001b[0m\u001b[0m\n\u001b[1;32m      4\u001b[0m \u001b[0mplt\u001b[0m\u001b[0;34m.\u001b[0m\u001b[0mscatter\u001b[0m\u001b[0;34m(\u001b[0m\u001b[0mresult\u001b[0m\u001b[0;34m[\u001b[0m\u001b[0;34m:\u001b[0m\u001b[0;34m,\u001b[0m\u001b[0;36m0\u001b[0m\u001b[0;34m]\u001b[0m\u001b[0;34m,\u001b[0m \u001b[0mresult\u001b[0m\u001b[0;34m[\u001b[0m\u001b[0;34m:\u001b[0m\u001b[0;34m,\u001b[0m\u001b[0;36m1\u001b[0m\u001b[0;34m]\u001b[0m\u001b[0;34m,\u001b[0m \u001b[0mc\u001b[0m\u001b[0;34m=\u001b[0m\u001b[0mlabels\u001b[0m\u001b[0;34m,\u001b[0m \u001b[0mcmap\u001b[0m\u001b[0;34m=\u001b[0m\u001b[0mplt\u001b[0m\u001b[0;34m.\u001b[0m\u001b[0mcm\u001b[0m\u001b[0;34m.\u001b[0m\u001b[0mget_cmap\u001b[0m\u001b[0;34m(\u001b[0m\u001b[0;34m\"Vega20b\"\u001b[0m\u001b[0;34m,\u001b[0m \u001b[0;36m10\u001b[0m\u001b[0;34m)\u001b[0m\u001b[0;34m)\u001b[0m\u001b[0;34m\u001b[0m\u001b[0m\n\u001b[1;32m      5\u001b[0m \u001b[0mplt\u001b[0m\u001b[0;34m.\u001b[0m\u001b[0msubplot2grid\u001b[0m\u001b[0;34m(\u001b[0m\u001b[0;34m(\u001b[0m\u001b[0;36m1\u001b[0m\u001b[0;34m,\u001b[0m\u001b[0;36m2\u001b[0m\u001b[0;34m)\u001b[0m\u001b[0;34m,\u001b[0m \u001b[0;34m(\u001b[0m\u001b[0;36m0\u001b[0m\u001b[0;34m,\u001b[0m\u001b[0;36m1\u001b[0m\u001b[0;34m)\u001b[0m\u001b[0;34m,\u001b[0m \u001b[0mrowspan\u001b[0m\u001b[0;34m=\u001b[0m\u001b[0;36m1\u001b[0m\u001b[0;34m,\u001b[0m \u001b[0mcolspan\u001b[0m\u001b[0;34m=\u001b[0m\u001b[0;36m2\u001b[0m\u001b[0;34m)\u001b[0m\u001b[0;34m\u001b[0m\u001b[0m\n",
      "\u001b[0;31mNameError\u001b[0m: name 'plt' is not defined"
     ]
    }
   ],
   "source": [
    "fig = plt.figure(figsize=(20,10))\n",
    "plt.subplot2grid((1,2), (0,0))\n",
    "plt.title('big_data')\n",
    "plt.scatter(result[:,0], result[:,1], c=labels, cmap=plt.cm.get_cmap(\"Vega20b\", 10))\n",
    "plt.subplot2grid((1,2), (0,1), rowspan=1, colspan=2)\n",
    "plt.title('the_data')\n",
    "plt.scatter(result_emb_bh[:,0], result_emb_bh[:,1], c=labels1, cmap=plt.cm.get_cmap(\"Vega20b\", 10))\n",
    "plt.show()\n"
   ]
  },
  {
   "cell_type": "code",
   "execution_count": 40,
   "metadata": {
    "collapsed": false
   },
   "outputs": [
    {
     "data": {
      "image/png": "[encoded data removed]",
      "text/plain": [
       "<matplotlib.figure.Figure at 0x114ff3350>"
      ]
     },
     "metadata": {},
     "output_type": "display_data"
    }
   ],
   "source": [
    "plt.scatter(result_bh[:,0], result_bh[:,1], c=labels2, cmap=plt.cm.get_cmap(\"Vega20b\", 10))\n",
    "plt.show()"
   ]
  },
  {
   "cell_type": "markdown",
   "metadata": {},
   "source": [
    "# So wazz up?\n"
   ]
  },
  {
   "cell_type": "code",
   "execution_count": 21,
   "metadata": {
    "collapsed": false
   },
   "outputs": [
    {
     "data": {
      "text/html": [
       "\n",
       "    <div class=\"bk-root\">\n",
       "        <a href=\"http://bokeh.pydata.org\" target=\"_blank\" class=\"bk-logo bk-logo-small bk-logo-notebook\"></a>\n",
       "        <span id=\"2adb6144-dc97-4f95-ad1f-b22105948274\">Loading BokehJS ...</span>\n",
       "    </div>"
      ]
     },
     "metadata": {},
     "output_type": "display_data"
    },
    {
     "data": {
      "application/javascript": [
       "\n",
       "(function(global) {\n",
       "  function now() {\n",
       "    return new Date();\n",
       "  }\n",
       "\n",
       "  var force = true;\n",
       "\n",
       "  if (typeof (window._bokeh_onload_callbacks) === \"undefined\" || force === true) {\n",
       "    window._bokeh_onload_callbacks = [];\n",
       "    window._bokeh_is_loading = undefined;\n",
       "  }\n",
       "\n",
       "\n",
       "  \n",
       "  if (typeof (window._bokeh_timeout) === \"undefined\" || force === true) {\n",
       "    window._bokeh_timeout = Date.now() + 5000;\n",
       "    window._bokeh_failed_load = false;\n",
       "  }\n",
       "\n",
       "  var NB_LOAD_WARNING = {'data': {'text/html':\n",
       "     \"<div style='background-color: #fdd'>\\n\"+\n",
       "     \"<p>\\n\"+\n",
       "     \"BokehJS does not appear to have successfully loaded. If loading BokehJS from CDN, this \\n\"+\n",
       "     \"may be due to a slow or bad network connection. Possible fixes:\\n\"+\n",
       "     \"</p>\\n\"+\n",
       "     \"<ul>\\n\"+\n",
       "     \"<li>re-rerun `output_notebook()` to attempt to load from CDN again, or</li>\\n\"+\n",
       "     \"<li>use INLINE resources instead, as so:</li>\\n\"+\n",
       "     \"</ul>\\n\"+\n",
       "     \"<code>\\n\"+\n",
       "     \"from bokeh.resources import INLINE\\n\"+\n",
       "     \"output_notebook(resources=INLINE)\\n\"+\n",
       "     \"</code>\\n\"+\n",
       "     \"</div>\"}};\n",
       "\n",
       "  function display_loaded() {\n",
       "    if (window.Bokeh !== undefined) {\n",
       "      document.getElementById(\"2adb6144-dc97-4f95-ad1f-b22105948274\").textContent = \"BokehJS successfully loaded.\";\n",
       "    } else if (Date.now() < window._bokeh_timeout) {\n",
       "      setTimeout(display_loaded, 100)\n",
       "    }\n",
       "  }\n",
       "\n",
       "  function run_callbacks() {\n",
       "    window._bokeh_onload_callbacks.forEach(function(callback) { callback() });\n",
       "    delete window._bokeh_onload_callbacks\n",
       "    console.info(\"Bokeh: all callbacks have finished\");\n",
       "  }\n",
       "\n",
       "  function load_libs(js_urls, callback) {\n",
       "    window._bokeh_onload_callbacks.push(callback);\n",
       "    if (window._bokeh_is_loading > 0) {\n",
       "      console.log(\"Bokeh: BokehJS is being loaded, scheduling callback at\", now());\n",
       "      return null;\n",
       "    }\n",
       "    if (js_urls == null || js_urls.length === 0) {\n",
       "      run_callbacks();\n",
       "      return null;\n",
       "    }\n",
       "    console.log(\"Bokeh: BokehJS not loaded, scheduling load and callback at\", now());\n",
       "    window._bokeh_is_loading = js_urls.length;\n",
       "    for (var i = 0; i < js_urls.length; i++) {\n",
       "      var url = js_urls[i];\n",
       "      var s = document.createElement('script');\n",
       "      s.src = url;\n",
       "      s.async = false;\n",
       "      s.onreadystatechange = s.onload = function() {\n",
       "        window._bokeh_is_loading--;\n",
       "        if (window._bokeh_is_loading === 0) {\n",
       "          console.log(\"Bokeh: all BokehJS libraries loaded\");\n",
       "          run_callbacks()\n",
       "        }\n",
       "      };\n",
       "      s.onerror = function() {\n",
       "        console.warn(\"failed to load library \" + url);\n",
       "      };\n",
       "      console.log(\"Bokeh: injecting script tag for BokehJS library: \", url);\n",
       "      document.getElementsByTagName(\"head\")[0].appendChild(s);\n",
       "    }\n",
       "  };var element = document.getElementById(\"2adb6144-dc97-4f95-ad1f-b22105948274\");\n",
       "  if (element == null) {\n",
       "    console.log(\"Bokeh: ERROR: autoload.js configured with elementid '2adb6144-dc97-4f95-ad1f-b22105948274' but no matching script tag was found. \")\n",
       "    return false;\n",
       "  }\n",
       "\n",
       "  var js_urls = [\"https://cdn.pydata.org/bokeh/release/bokeh-0.12.4.min.js\", \"https://cdn.pydata.org/bokeh/release/bokeh-widgets-0.12.4.min.js\"];\n",
       "\n",
       "  var inline_js = [\n",
       "    function(Bokeh) {\n",
       "      Bokeh.set_log_level(\"info\");\n",
       "    },\n",
       "    \n",
       "    function(Bokeh) {\n",
       "      \n",
       "      document.getElementById(\"2adb6144-dc97-4f95-ad1f-b22105948274\").textContent = \"BokehJS is loading...\";\n",
       "    },\n",
       "    function(Bokeh) {\n",
       "      console.log(\"Bokeh: injecting CSS: https://cdn.pydata.org/bokeh/release/bokeh-0.12.4.min.css\");\n",
       "      Bokeh.embed.inject_css(\"https://cdn.pydata.org/bokeh/release/bokeh-0.12.4.min.css\");\n",
       "      console.log(\"Bokeh: injecting CSS: https://cdn.pydata.org/bokeh/release/bokeh-widgets-0.12.4.min.css\");\n",
       "      Bokeh.embed.inject_css(\"https://cdn.pydata.org/bokeh/release/bokeh-widgets-0.12.4.min.css\");\n",
       "    }\n",
       "  ];\n",
       "\n",
       "  function run_inline_js() {\n",
       "    \n",
       "    if ((window.Bokeh !== undefined) || (force === true)) {\n",
       "      for (var i = 0; i < inline_js.length; i++) {\n",
       "        inline_js[i](window.Bokeh);\n",
       "      }if (force === true) {\n",
       "        display_loaded();\n",
       "      }} else if (Date.now() < window._bokeh_timeout) {\n",
       "      setTimeout(run_inline_js, 100);\n",
       "    } else if (!window._bokeh_failed_load) {\n",
       "      console.log(\"Bokeh: BokehJS failed to load within specified timeout.\");\n",
       "      window._bokeh_failed_load = true;\n",
       "    } else if (force !== true) {\n",
       "      var cell = $(document.getElementById(\"2adb6144-dc97-4f95-ad1f-b22105948274\")).parents('.cell').data().cell;\n",
       "      cell.output_area.append_execute_result(NB_LOAD_WARNING)\n",
       "    }\n",
       "\n",
       "  }\n",
       "\n",
       "  if (window._bokeh_is_loading === 0) {\n",
       "    console.log(\"Bokeh: BokehJS loaded, going straight to plotting\");\n",
       "    run_inline_js();\n",
       "  } else {\n",
       "    load_libs(js_urls, function() {\n",
       "      console.log(\"Bokeh: BokehJS plotting callback run at\", now());\n",
       "      run_inline_js();\n",
       "    });\n",
       "  }\n",
       "}(this));"
      ]
     },
     "metadata": {},
     "output_type": "display_data"
    }
   ],
   "source": [
    "import bokeh.plotting as bp\n",
    "from bokeh.models import HoverTool \n",
    "from bokeh.charts import Scatter, output_file, show\n",
    "from bokeh.sampledata.autompg import autompg as df\n",
    "\n",
    "bp.output_notebook()"
   ]
  },
  {
   "cell_type": "code",
   "execution_count": 22,
   "metadata": {
    "collapsed": false
   },
   "outputs": [
    {
     "ename": "SyntaxError",
     "evalue": "invalid syntax (<ipython-input-22-6bcd6e0b0a4f>, line 13)",
     "output_type": "error",
     "traceback": [
      "\u001b[0;36m  File \u001b[0;32m\"<ipython-input-22-6bcd6e0b0a4f>\"\u001b[0;36m, line \u001b[0;32m13\u001b[0m\n\u001b[0;31m    Scatter(result[:,0], result[:,1], color=colormap)\u001b[0m\n\u001b[0m          ^\u001b[0m\n\u001b[0;31mSyntaxError\u001b[0m\u001b[0;31m:\u001b[0m invalid syntax\n"
     ]
    }
   ],
   "source": [
    "colormap = np.array([\n",
    "    #\"#1f77b4\", \"#aec7e8\", \"#ff7f0e\", \"#ffbb78\", \"#2ca02c\", \n",
    "    #\"#98df8a\", \"#d62728\", \"#ff9896\", \"#9467bd\", \"#c5b0d5\", \n",
    "    #\"#8c564b\", \"#c49c94\", \"#e377c2\", \"#f7b6d2\", \"#7f7f7f\", \n",
    "    #\"#c7c7c7\", \"#bcbd22\", \"#dbdb8d\", \"#17becf\", \"#9edae5\"\n",
    "#])\n",
    "\n",
    "bp.figure(plot_width=900, plot_height=700,  title=\"Subreddit Map by Interesting Dimensions\",\n",
    "       x_axis_label = result[:,0],\n",
    "       y_axis_label =  result[:,1],\n",
    "       tools=\"pan,wheel_zoom,box_zoom,reset,hover,previewsave\",\n",
    "       min_border=1)\n",
    "Scatter(result_bh[:,0], result_bh[:,1], color=colormap) \n",
    "\n",
    "Scatter.show()"
   ]
  },
  {
   "cell_type": "code",
   "execution_count": null,
   "metadata": {
    "collapsed": true
   },
   "outputs": [],
   "source": []
  }
 ],
 "metadata": {
  "kernelspec": {
   "display_name": "Python 2",
   "language": "python",
   "name": "python2"
  },
  "language_info": {
   "codemirror_mode": {
    "name": "ipython",
    "version": 2
   },
   "file_extension": ".py",
   "mimetype": "text/x-python",
   "name": "python",
   "nbconvert_exporter": "python",
   "pygments_lexer": "ipython2",
   "version": "2.7.13"
  }
 },
 "nbformat": 4,
 "nbformat_minor": 2
}
